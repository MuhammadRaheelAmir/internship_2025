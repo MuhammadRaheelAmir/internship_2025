{
 "cells": [
  {
   "cell_type": "markdown",
   "id": "77dfa407",
   "metadata": {},
   "source": [
    "## exception handling\n",
    "\n",
    "# gracefully handling an error or execption"
   ]
  },
  {
   "cell_type": "markdown",
   "id": "6899b8e2",
   "metadata": {},
   "source": [
    "## exception\n",
    "\n",
    "# an event that disrupts the normal flow of a program\n",
    "\n",
    "# occur during execution of a program"
   ]
  },
  {
   "cell_type": "markdown",
   "id": "fd040376",
   "metadata": {},
   "source": [
    "## types of exception\n",
    "\n",
    "# NameError: name not assigned\n",
    "# ZeroDivisionError: division by zero\n",
    "# FileNotFoundError: file not found\n",
    "# NameError: invalid name\n",
    "# TypeError: invalid type"
   ]
  },
  {
   "cell_type": "code",
   "execution_count": 13,
   "id": "e3db0493",
   "metadata": {},
   "outputs": [
    {
     "name": "stdout",
     "output_type": "stream",
     "text": [
      "Variable has not been assigned\n"
     ]
    }
   ],
   "source": [
    "## try, except \n",
    "try:\n",
    "    a=b # error as b is not defined\n",
    "except:\n",
    "    print(\"Variable has not been assigned\")"
   ]
  },
  {
   "cell_type": "code",
   "execution_count": null,
   "id": "8eb013cd",
   "metadata": {},
   "outputs": [
    {
     "name": "stdout",
     "output_type": "stream",
     "text": [
      "name 'b' is not defined\n"
     ]
    }
   ],
   "source": [
    "## try,except with errorcasting\n",
    "\n",
    "# try to check for exception\n",
    "\n",
    "# except prints the exception\n",
    "\n",
    "try:\n",
    "    a=b\n",
    "except NameError as err:\n",
    "    print(err)\n"
   ]
  },
  {
   "cell_type": "code",
   "execution_count": 32,
   "id": "a840edf8",
   "metadata": {},
   "outputs": [
    {
     "name": "stdout",
     "output_type": "stream",
     "text": [
      "denominator must be else than 0\n"
     ]
    }
   ],
   "source": [
    "try:\n",
    "    result=1/0\n",
    "except ZeroDivisionError as error:\n",
    "    print(\"denominator must be else than 0\")\n"
   ]
  },
  {
   "cell_type": "code",
   "execution_count": 35,
   "id": "b8b65129",
   "metadata": {},
   "outputs": [
    {
     "name": "stdout",
     "output_type": "stream",
     "text": [
      "Variable is not defined\n"
     ]
    }
   ],
   "source": [
    "## multiple exception statements\n",
    "\n",
    "try:\n",
    "    result=1/2 #not an error,hence will be executed\n",
    "    a=b #this will be an error,hence will be skipped\n",
    "except ZeroDivisionError as err1:\n",
    "    print(err1)\n",
    "except NameError as err2:\n",
    "    print(\"Variable is not defined\")"
   ]
  },
  {
   "cell_type": "code",
   "execution_count": 40,
   "id": "bfda6cce",
   "metadata": {},
   "outputs": [
    {
     "name": "stdout",
     "output_type": "stream",
     "text": [
      "denominator must be greater than 0\n"
     ]
    }
   ],
   "source": [
    "try:\n",
    "    a=int(input(\"enter a number\"))\n",
    "    result=10/a\n",
    "except ZeroDivisionError as err1:\n",
    "    print(\"denominator must be greater than 0\")\n",
    "except ValueError as err2:\n",
    "    print(\"Invalid number\")\n",
    "except Exception as err3:\n",
    "    print(err3)"
   ]
  },
  {
   "cell_type": "code",
   "execution_count": null,
   "id": "8a38acb9",
   "metadata": {},
   "outputs": [
    {
     "name": "stdout",
     "output_type": "stream",
     "text": [
      "result is 5.0\n"
     ]
    }
   ],
   "source": [
    "## try , except , else\n",
    "\n",
    "# else prints the result if no exception occurs\n",
    "try:\n",
    "    num=int(input(\"enter a nnumber\"))\n",
    "    result=10/num\n",
    "except ValueError as err1:\n",
    "    print(\"invalid input\")\n",
    "except ZeroDivisionError as err2:\n",
    "    print(\"division by zero\")\n",
    "except Exception as err3:\n",
    "    print(err3)\n",
    "else :\n",
    "    print(f'result is {result}')"
   ]
  },
  {
   "cell_type": "code",
   "execution_count": 43,
   "id": "7f89d8a6",
   "metadata": {},
   "outputs": [
    {
     "name": "stdout",
     "output_type": "stream",
     "text": [
      "result is 3.3333333333333335\n",
      "execution complete\n"
     ]
    }
   ],
   "source": [
    "## try , except , else , finally\n",
    "\n",
    "# finally provides the confirmation of execution\n",
    "\n",
    "try:\n",
    "    num=int(input(\"enter a number\"))\n",
    "    result=10/num\n",
    "except ValueError as err1:\n",
    "    print(\"invalid number\")\n",
    "except ZeroDivisionError as err2:\n",
    "    print(\"denominator must be greater than 0\")\n",
    "except Exception as err3:\n",
    "    print(err3)\n",
    "else:\n",
    "    print(f'result is {result}')\n",
    "finally:\n",
    "    print(\"execution complete\")"
   ]
  },
  {
   "cell_type": "code",
   "execution_count": 4,
   "id": "de8d1f91",
   "metadata": {},
   "outputs": [
    {
     "name": "stdout",
     "output_type": "stream",
     "text": [
      "Hithere!\n",
      "what an informative session it was\n",
      "file closed\n"
     ]
    }
   ],
   "source": [
    "## exception handling with file handling\n",
    "try:\n",
    "    file=open('file.txt',mode='r')\n",
    "    content=file.read()\n",
    "    print(content)\n",
    "\n",
    "except FileNotFoundError as err1:\n",
    "    print(\" file not found\")\n",
    "except Exception as err2:\n",
    "    print(err2)\n",
    "finally:\n",
    "    if 'file' in locals() or not file.closed():\n",
    "            file.close()\n",
    "            print(\"file closed\")\n",
    "\n"
   ]
  },
  {
   "cell_type": "code",
   "execution_count": 5,
   "id": "0c4360e3",
   "metadata": {},
   "outputs": [
    {
     "name": "stdout",
     "output_type": "stream",
     "text": [
      "True\n"
     ]
    }
   ],
   "source": [
    "if 'file' in locals():\n",
    "    print(\"True\")"
   ]
  },
  {
   "cell_type": "code",
   "execution_count": null,
   "id": "2eb42cc1",
   "metadata": {},
   "outputs": [],
   "source": []
  }
 ],
 "metadata": {
  "kernelspec": {
   "display_name": "Python 3",
   "language": "python",
   "name": "python3"
  },
  "language_info": {
   "codemirror_mode": {
    "name": "ipython",
    "version": 3
   },
   "file_extension": ".py",
   "mimetype": "text/x-python",
   "name": "python",
   "nbconvert_exporter": "python",
   "pygments_lexer": "ipython3",
   "version": "3.12.0"
  }
 },
 "nbformat": 4,
 "nbformat_minor": 5
}
