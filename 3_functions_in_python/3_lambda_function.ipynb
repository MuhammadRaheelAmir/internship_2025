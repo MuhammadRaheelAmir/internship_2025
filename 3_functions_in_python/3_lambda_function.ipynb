{
 "cells": [
  {
   "cell_type": "code",
   "execution_count": null,
   "id": "31002333",
   "metadata": {},
   "outputs": [
    {
     "data": {
      "text/plain": [
       "<function __main__.<lambda>(arguments)>"
      ]
     },
     "execution_count": 24,
     "metadata": {},
     "output_type": "execute_result"
    }
   ],
   "source": [
    "## lambda function\n",
    "#comprehensive method to define a function\n",
    "lambda arguments:expression\n"
   ]
  },
  {
   "cell_type": "code",
   "execution_count": null,
   "id": "3e11da5a",
   "metadata": {},
   "outputs": [],
   "source": [
    "\n",
    "\n",
    "def add(a,b):\n",
    "    '''this function adds the two  numbers'''\n",
    "    print(a+b)"
   ]
  },
  {
   "cell_type": "code",
   "execution_count": 26,
   "id": "934be8bb",
   "metadata": {},
   "outputs": [
    {
     "name": "stdout",
     "output_type": "stream",
     "text": [
      "5\n"
     ]
    }
   ],
   "source": [
    "add(2,3)"
   ]
  },
  {
   "cell_type": "code",
   "execution_count": 27,
   "id": "257ba9cf",
   "metadata": {},
   "outputs": [],
   "source": [
    "addition=lambda a,b:a+b"
   ]
  },
  {
   "cell_type": "code",
   "execution_count": 29,
   "id": "4d24defa",
   "metadata": {},
   "outputs": [
    {
     "data": {
      "text/plain": [
       "5"
      ]
     },
     "execution_count": 29,
     "metadata": {},
     "output_type": "execute_result"
    }
   ],
   "source": [
    "addition(2,3)"
   ]
  },
  {
   "cell_type": "code",
   "execution_count": 30,
   "id": "64ff37c7",
   "metadata": {},
   "outputs": [],
   "source": [
    "def even_1(num):\n",
    "    '''this checks if the number is even'''\n",
    "    if num%2==0:\n",
    "        print(\"true\")"
   ]
  },
  {
   "cell_type": "code",
   "execution_count": 31,
   "id": "dfad60b1",
   "metadata": {},
   "outputs": [
    {
     "name": "stdout",
     "output_type": "stream",
     "text": [
      "true\n"
     ]
    }
   ],
   "source": [
    "even_1(6)"
   ]
  },
  {
   "cell_type": "code",
   "execution_count": 32,
   "id": "2be1b1aa",
   "metadata": {},
   "outputs": [],
   "source": [
    "even_2=lambda num:num%2==0"
   ]
  },
  {
   "cell_type": "code",
   "execution_count": 33,
   "id": "0726c838",
   "metadata": {},
   "outputs": [
    {
     "name": "stdout",
     "output_type": "stream",
     "text": [
      "true\n"
     ]
    }
   ],
   "source": [
    "even_1(6)"
   ]
  }
 ],
 "metadata": {
  "kernelspec": {
   "display_name": "Python 3",
   "language": "python",
   "name": "python3"
  },
  "language_info": {
   "codemirror_mode": {
    "name": "ipython",
    "version": 3
   },
   "file_extension": ".py",
   "mimetype": "text/x-python",
   "name": "python",
   "nbconvert_exporter": "python",
   "pygments_lexer": "ipython3",
   "version": "3.12.0"
  }
 },
 "nbformat": 4,
 "nbformat_minor": 5
}
