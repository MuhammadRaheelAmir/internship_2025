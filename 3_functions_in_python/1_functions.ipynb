{
 "cells": [
  {
   "cell_type": "code",
   "execution_count": null,
   "id": "a275d2ec",
   "metadata": {},
   "outputs": [],
   "source": [
    "## fucntions in python\n",
    "\n",
    "# structure\n",
    "\n",
    "def function_name(parameters):\n",
    "    '''doc string'''\n",
    "    #body\n",
    "    return expression"
   ]
  },
  {
   "cell_type": "code",
   "execution_count": null,
   "id": "0d953595",
   "metadata": {},
   "outputs": [],
   "source": [
    "## defining a function\n",
    "\n",
    "def even_or_odd(num):\n",
    "    '''This functions tells whether a number is even or odd'''\n",
    "    if num%2==0:\n",
    "        print(\"the number is even\")\n",
    "    else:\n",
    "        print(\"The number is odd\")"
   ]
  },
  {
   "cell_type": "code",
   "execution_count": 3,
   "id": "a9e3428d",
   "metadata": {},
   "outputs": [
    {
     "name": "stdout",
     "output_type": "stream",
     "text": [
      "The number is odd\n"
     ]
    }
   ],
   "source": [
    "## calling a function\n",
    "\n",
    "even_or_odd(31)"
   ]
  },
  {
   "cell_type": "code",
   "execution_count": 50,
   "id": "aff91848",
   "metadata": {},
   "outputs": [],
   "source": [
    "## greetings\n",
    "\n",
    "def greet(name):\n",
    "    \"\"\"Prints a greeting message to the console.\"\"\"\n",
    "    print( f\"Noyan ki jahanum me khushamdeed {name}\")"
   ]
  },
  {
   "cell_type": "code",
   "execution_count": 51,
   "id": "09ce5db3",
   "metadata": {},
   "outputs": [
    {
     "name": "stdout",
     "output_type": "stream",
     "text": [
      "Noyan ki jahanum me khushamdeed Ertugrul\n"
     ]
    }
   ],
   "source": [
    "greet(\"Ertugrul\")"
   ]
  },
  {
   "cell_type": "code",
   "execution_count": 52,
   "id": "02cf45f4",
   "metadata": {},
   "outputs": [],
   "source": [
    "## function with multiple parameters\n",
    "\n",
    "def add(num1,num2):\n",
    "    print(num1 + num2)\n"
   ]
  },
  {
   "cell_type": "code",
   "execution_count": 53,
   "id": "bfefc145",
   "metadata": {},
   "outputs": [
    {
     "name": "stdout",
     "output_type": "stream",
     "text": [
      "32\n"
     ]
    }
   ],
   "source": [
    "add(12,20)"
   ]
  },
  {
   "cell_type": "code",
   "execution_count": 54,
   "id": "d993ff5c",
   "metadata": {},
   "outputs": [],
   "source": [
    "## return statements\n",
    "\n",
    "# works like print statement\n",
    "\n",
    "def subtract(num1,num2):\n",
    "    return num1 - num2"
   ]
  },
  {
   "cell_type": "code",
   "execution_count": 55,
   "id": "012926e5",
   "metadata": {},
   "outputs": [
    {
     "data": {
      "text/plain": [
       "8"
      ]
     },
     "execution_count": 55,
     "metadata": {},
     "output_type": "execute_result"
    }
   ],
   "source": [
    "subtract(20,12)"
   ]
  },
  {
   "cell_type": "code",
   "execution_count": 25,
   "id": "4f6612f4",
   "metadata": {},
   "outputs": [],
   "source": [
    "## positional arguments\n",
    "\n",
    "# deals with in the arguments\n",
    "\n",
    "## *args\n",
    "\n",
    "def print_num(*args):\n",
    "    for i in args:\n",
    "        print(i)"
   ]
  },
  {
   "cell_type": "code",
   "execution_count": 26,
   "id": "6c32aed2",
   "metadata": {},
   "outputs": [
    {
     "name": "stdout",
     "output_type": "stream",
     "text": [
      "1\n",
      "2\n",
      "3\n",
      "4\n",
      "sajid\n"
     ]
    }
   ],
   "source": [
    "print_num(1,2,3,4,\"sajid\")"
   ]
  },
  {
   "cell_type": "code",
   "execution_count": 39,
   "id": "dc874f2c",
   "metadata": {},
   "outputs": [],
   "source": [
    "## keyword arguments\n",
    "\n",
    "# deals with in the form key=value pair\n",
    "\n",
    "# **kwargs\n",
    "\n",
    "def print_details(**kwargs):\n",
    "    for keys,values in kwargs.items():\n",
    "        print(f\"{keys}:{values}\")"
   ]
  },
  {
   "cell_type": "code",
   "execution_count": 40,
   "id": "a433ef26",
   "metadata": {},
   "outputs": [
    {
     "name": "stdout",
     "output_type": "stream",
     "text": [
      "name:Raheel\n",
      "age:21\n"
     ]
    }
   ],
   "source": [
    "print_details(name=\"Raheel\",age=21)"
   ]
  },
  {
   "cell_type": "code",
   "execution_count": 48,
   "id": "e3fb9e8b",
   "metadata": {},
   "outputs": [],
   "source": [
    "## *args , **kwargs combined \n",
    "\n",
    "def details(*args,**kwargs):\n",
    "    for i in args:\n",
    "        print(f\"Positional Argument:{i}\")\n",
    "    for key,value in kwargs.items():\n",
    "        print(f\"{key}:{value}\")"
   ]
  },
  {
   "cell_type": "code",
   "execution_count": 49,
   "id": "73509b8d",
   "metadata": {},
   "outputs": [
    {
     "name": "stdout",
     "output_type": "stream",
     "text": [
      "Positional Argument:1\n",
      "Positional Argument:2\n",
      "Positional Argument:3\n",
      "name:raheel\n",
      "age:21\n"
     ]
    }
   ],
   "source": [
    "details(1,2,3,name=\"raheel\",age=21)"
   ]
  },
  {
   "cell_type": "code",
   "execution_count": null,
   "id": "c8e655da",
   "metadata": {},
   "outputs": [],
   "source": []
  }
 ],
 "metadata": {
  "kernelspec": {
   "display_name": "Python 3",
   "language": "python",
   "name": "python3"
  },
  "language_info": {
   "codemirror_mode": {
    "name": "ipython",
    "version": 3
   },
   "file_extension": ".py",
   "mimetype": "text/x-python",
   "name": "python",
   "nbconvert_exporter": "python",
   "pygments_lexer": "ipython3",
   "version": "3.12.0"
  }
 },
 "nbformat": 4,
 "nbformat_minor": 5
}
