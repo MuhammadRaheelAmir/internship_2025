{
 "cells": [
  {
   "cell_type": "markdown",
   "id": "1e947e82",
   "metadata": {},
   "source": [
    "## map function \n",
    "# applies the function to all the elements in a variable\n",
    "\n",
    "# syntax \n",
    "data_type(map(function,variable))"
   ]
  },
  {
   "cell_type": "code",
   "execution_count": 1,
   "id": "ee35ee20",
   "metadata": {},
   "outputs": [],
   "source": [
    "def square_1(num):\n",
    "    return(num*num)"
   ]
  },
  {
   "cell_type": "code",
   "execution_count": 3,
   "id": "1379afdc",
   "metadata": {},
   "outputs": [
    {
     "data": {
      "text/plain": [
       "49"
      ]
     },
     "execution_count": 3,
     "metadata": {},
     "output_type": "execute_result"
    }
   ],
   "source": [
    "square_1(7)"
   ]
  },
  {
   "cell_type": "code",
   "execution_count": 4,
   "id": "0dc75fba",
   "metadata": {},
   "outputs": [
    {
     "data": {
      "text/plain": [
       "[1, 4, 9, 16, 25]"
      ]
     },
     "execution_count": 4,
     "metadata": {},
     "output_type": "execute_result"
    }
   ],
   "source": [
    "a=[1,2,3,4,5]\n",
    "list(map(square_1,a))"
   ]
  },
  {
   "cell_type": "markdown",
   "id": "2b59e0f0",
   "metadata": {},
   "source": [
    "## using map with lambda function\n",
    "\n",
    "data_type(map(lambda argument:expression,iterable))"
   ]
  },
  {
   "cell_type": "code",
   "execution_count": 5,
   "id": "540da7d2",
   "metadata": {},
   "outputs": [
    {
     "data": {
      "text/plain": [
       "[4, 16, 36, 64]"
      ]
     },
     "execution_count": 5,
     "metadata": {},
     "output_type": "execute_result"
    }
   ],
   "source": [
    "a=[2,4,6,8]\n",
    "list(map(lambda i:i**2,a))"
   ]
  },
  {
   "cell_type": "markdown",
   "id": "8df323ec",
   "metadata": {},
   "source": [
    "## maps with multiple iterables\n",
    "\n",
    "data_type(map(lambda argument1,argument:expression, iterable1,iterable2))"
   ]
  },
  {
   "cell_type": "code",
   "execution_count": 6,
   "id": "921a6852",
   "metadata": {},
   "outputs": [
    {
     "name": "stdout",
     "output_type": "stream",
     "text": [
      "[6, 8, 10, 12]\n"
     ]
    }
   ],
   "source": [
    "A=[1,2,3,4]\n",
    "B=[5,6,7,8]\n",
    "added_num=list(map(lambda i,j:i+j ,A,B))\n",
    "print(added_num)"
   ]
  },
  {
   "cell_type": "markdown",
   "id": "7c209bd6",
   "metadata": {},
   "source": [
    "## typecasting using map function\n",
    "data_type(map(new_data_type,iterable))"
   ]
  },
  {
   "cell_type": "code",
   "execution_count": 7,
   "id": "d4abe373",
   "metadata": {},
   "outputs": [
    {
     "name": "stdout",
     "output_type": "stream",
     "text": [
      "[1, 2, 3]\n"
     ]
    }
   ],
   "source": [
    "lst_num=['1' , '2' , '3']\n",
    "int_num=list(map(int,lst_num))\n",
    "print(int_num)"
   ]
  },
  {
   "cell_type": "code",
   "execution_count": 8,
   "id": "43d9e79b",
   "metadata": {},
   "outputs": [
    {
     "name": "stdout",
     "output_type": "stream",
     "text": [
      "('BANANA', 'APPLE')\n"
     ]
    }
   ],
   "source": [
    "fruits=(\"banana\",\"apple\")\n",
    "FRUITS=tuple(map(str.upper, fruits))\n",
    "print(FRUITS)"
   ]
  },
  {
   "cell_type": "code",
   "execution_count": 9,
   "id": "02c65dea",
   "metadata": {},
   "outputs": [
    {
     "data": {
      "text/plain": [
       "['raheel', 'sajid']"
      ]
     },
     "execution_count": 9,
     "metadata": {},
     "output_type": "execute_result"
    }
   ],
   "source": [
    "def get(person):\n",
    "    return person['name']\n",
    "\n",
    "person=[\n",
    "    {'name': 'raheel', 'age': 21},\n",
    "    {'name': 'sajid', 'age': 22},\n",
    "]\n",
    "list(map(get,person))"
   ]
  },
  {
   "cell_type": "code",
   "execution_count": null,
   "id": "fc7f87ac",
   "metadata": {},
   "outputs": [],
   "source": []
  }
 ],
 "metadata": {
  "kernelspec": {
   "display_name": "Python 3",
   "language": "python",
   "name": "python3"
  },
  "language_info": {
   "codemirror_mode": {
    "name": "ipython",
    "version": 3
   },
   "file_extension": ".py",
   "mimetype": "text/x-python",
   "name": "python",
   "nbconvert_exporter": "python",
   "pygments_lexer": "ipython3",
   "version": "3.12.0"
  }
 },
 "nbformat": 4,
 "nbformat_minor": 5
}
