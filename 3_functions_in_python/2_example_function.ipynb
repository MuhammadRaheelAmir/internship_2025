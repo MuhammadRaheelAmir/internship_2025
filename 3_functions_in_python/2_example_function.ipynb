{
 "cells": [
  {
   "cell_type": "code",
   "execution_count": null,
   "id": "3ffcaab6",
   "metadata": {},
   "outputs": [],
   "source": [
    "## temperature conversion\n",
    "\n",
    "def convert_temperature(value,unit):\n",
    "    if unit=='C':\n",
    "        return value* 9/5 + 32\n",
    "    elif unit=='F':\n",
    "        return (value-32) * 5/9\n",
    "    elif unit=='K':\n",
    "        return value - 273.15\n",
    "    else :\n",
    "        return (\"none\")\n"
   ]
  },
  {
   "cell_type": "code",
   "execution_count": null,
   "id": "b325697d",
   "metadata": {},
   "outputs": [
    {
     "data": {
      "text/plain": [
       "17.850000000000023"
      ]
     },
     "execution_count": 4,
     "metadata": {},
     "output_type": "execute_result"
    }
   ],
   "source": [
    "convert_temperature(291,'K')"
   ]
  },
  {
   "cell_type": "code",
   "execution_count": 27,
   "id": "83fa50b4",
   "metadata": {},
   "outputs": [],
   "source": [
    "## password strength checking\n",
    "\n",
    "\n",
    "\n",
    "def password_strength(password):\n",
    "    if len(password)<8:\n",
    "        return (\"weak\")\n",
    "    if not any(char.isdigit() for char in password):\n",
    "        return (\"weak\")\n",
    "    if not any (char.isupper() for char in password):\n",
    "        return (\"weak\")\n",
    "    if not any (char.islower() for char in password):\n",
    "        return (\"weak\")\n",
    "    if not any (char in \"!@#$%^&*()_+=-\" for char in password):\n",
    "        return (\"weak\")\n",
    "    else :\n",
    "        return (\"strong\")"
   ]
  },
  {
   "cell_type": "code",
   "execution_count": 31,
   "id": "9e44f792",
   "metadata": {},
   "outputs": [
    {
     "name": "stdout",
     "output_type": "stream",
     "text": [
      "weak\n",
      "strong\n"
     ]
    }
   ],
   "source": [
    "print(password_strength(\"scrapycoco\"))\n",
    "print(password_strength(\"Scr@pYc*c0\"))\n"
   ]
  },
  {
   "cell_type": "code",
   "execution_count": 53,
   "id": "7ea562d2",
   "metadata": {},
   "outputs": [],
   "source": [
    "## price calculation \n",
    "\n",
    "def price_calculate(cart):\n",
    "    total_cost=0\n",
    "    for item in cart:\n",
    "        total_cost+=item['price']*item['quantity']\n",
    "    return total_cost\n",
    "        "
   ]
  },
  {
   "cell_type": "code",
   "execution_count": 54,
   "id": "db01721f",
   "metadata": {},
   "outputs": [],
   "source": [
    "cart=[\n",
    "    {\"name\":\"apple\",\"price\":1,\"quantity\":5},\n",
    "    {\"name\":\"banana\",\"price\":0.5,\"quantity\":10},\n",
    "    {\"name\":\"orange\",\"price\":1.5,\"quantity\":7}\n",
    "]\n",
    "\n"
   ]
  },
  {
   "cell_type": "code",
   "execution_count": 55,
   "id": "996dff08",
   "metadata": {},
   "outputs": [
    {
     "name": "stdout",
     "output_type": "stream",
     "text": [
      "20.5\n"
     ]
    }
   ],
   "source": [
    "cost = price_calculate (cart)\n",
    "print(cost)"
   ]
  },
  {
   "cell_type": "code",
   "execution_count": 69,
   "id": "abaab3d4",
   "metadata": {},
   "outputs": [],
   "source": [
    "## check if the string is palindrome\n",
    "\n",
    "def palindrome(s):\n",
    "    s=s.lower().replace(\" \",\"\")\n",
    "    return s==s[::-1]"
   ]
  },
  {
   "cell_type": "code",
   "execution_count": 70,
   "id": "561f10e9",
   "metadata": {},
   "outputs": [
    {
     "name": "stdout",
     "output_type": "stream",
     "text": [
      "True\n"
     ]
    }
   ],
   "source": [
    "str=(palindrome('A man A plan a canal Panama'))\n",
    "print(str)\n"
   ]
  },
  {
   "cell_type": "code",
   "execution_count": 89,
   "id": "f9646055",
   "metadata": {},
   "outputs": [],
   "source": [
    "## finding the factorial of a number\n",
    "def fact(n):\n",
    "    result=1\n",
    "    for i in range(2,n+1):\n",
    "        result*=i\n",
    "    return result"
   ]
  },
  {
   "cell_type": "code",
   "execution_count": 91,
   "id": "d57884a4",
   "metadata": {},
   "outputs": [
    {
     "data": {
      "text/plain": [
       "720"
      ]
     },
     "execution_count": 91,
     "metadata": {},
     "output_type": "execute_result"
    }
   ],
   "source": [
    "fact(6)"
   ]
  },
  {
   "cell_type": "code",
   "execution_count": null,
   "id": "391b021f",
   "metadata": {},
   "outputs": [],
   "source": [
    "## factorial using recursion\n",
    "# recusrion means using a function in its own definition\n",
    "\n",
    "def factorial(n):\n",
    "    if n==0:\n",
    "        return 1\n",
    "    else :\n",
    "        return n * factorial(n-1)"
   ]
  },
  {
   "cell_type": "code",
   "execution_count": 92,
   "id": "f49b0c9c",
   "metadata": {},
   "outputs": [
    {
     "data": {
      "text/plain": [
       "720"
      ]
     },
     "execution_count": 92,
     "metadata": {},
     "output_type": "execute_result"
    }
   ],
   "source": [
    "facotrial(6)"
   ]
  },
  {
   "cell_type": "code",
   "execution_count": 100,
   "id": "a9f8dda7",
   "metadata": {},
   "outputs": [],
   "source": [
    "## a fucntion to read a file and counting word frequency\n",
    "\n",
    "def frequency_count(file_path):\n",
    "    word_count={}\n",
    "    with open(file_path,'r') as file:\n",
    "        for line in file:\n",
    "            words=line.split()\n",
    "            for word in words:\n",
    "                word=word.lower().strip(',.?:''')\n",
    "                word_count[word]=word_count.get(word,0)+1\n",
    "    return word_count\n",
    "        \n"
   ]
  },
  {
   "cell_type": "code",
   "execution_count": 101,
   "id": "79b84a4a",
   "metadata": {},
   "outputs": [
    {
     "name": "stdout",
     "output_type": "stream",
     "text": [
      "{'\"curiosity': 1, \"isn't\": 1, 'just': 1, 'a': 1, 'trait—it’s': 1, 'the': 2, 'spark': 1, 'behind': 1, 'every': 1, 'discovery': 1, 'it': 1, 'dares': 1, 'us': 1, 'to': 1, 'ask': 1, \"'what\": 1, \"if'\": 1, 'and': 1, 'makes': 1, 'ordinary': 1, 'feel': 1, 'extraordinary.\"': 1}\n"
     ]
    }
   ],
   "source": [
    "filepath='file.txt'\n",
    "count=frequency_count(filepath)\n",
    "print(count)"
   ]
  },
  {
   "cell_type": "code",
   "execution_count": 1,
   "id": "9e8268bf",
   "metadata": {},
   "outputs": [
    {
     "name": "stdout",
     "output_type": "stream",
     "text": [
      "True\n",
      "False\n"
     ]
    }
   ],
   "source": [
    "## Fucntion to check email validation\n",
    "\n",
    "import re\n",
    "\n",
    "def is_valid_email(email):\n",
    "    \"\"\"This function checks if the email is valid.\"\"\"\n",
    "    pattern = r'^[a-zA-Z0-9_.+-]+@[a-zA-Z0-9-]+\\.[a-zA-Z0-9-.]+$'\n",
    "    return re.match(pattern, email) is not None\n",
    "\n",
    "# Calling the function\n",
    "print(is_valid_email(\"email@gmail.com\"))\n",
    "print(is_valid_email(\"email.com\")) "
   ]
  },
  {
   "cell_type": "code",
   "execution_count": null,
   "id": "f3810228",
   "metadata": {},
   "outputs": [],
   "source": []
  }
 ],
 "metadata": {
  "kernelspec": {
   "display_name": "Python 3",
   "language": "python",
   "name": "python3"
  },
  "language_info": {
   "codemirror_mode": {
    "name": "ipython",
    "version": 3
   },
   "file_extension": ".py",
   "mimetype": "text/x-python",
   "name": "python",
   "nbconvert_exporter": "python",
   "pygments_lexer": "ipython3",
   "version": "3.12.0"
  }
 },
 "nbformat": 4,
 "nbformat_minor": 5
}
