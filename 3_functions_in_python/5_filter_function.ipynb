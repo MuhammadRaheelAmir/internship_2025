{
 "cells": [
  {
   "cell_type": "markdown",
   "id": "95939628",
   "metadata": {},
   "source": [
    "## filter function filters out items based on a condition\n",
    "# syntax\n",
    "data_type(filter(expression,iterable))"
   ]
  },
  {
   "cell_type": "code",
   "execution_count": 1,
   "id": "160fc549",
   "metadata": {},
   "outputs": [],
   "source": [
    "def even_(i):\n",
    "    return i%2==0"
   ]
  },
  {
   "cell_type": "code",
   "execution_count": 2,
   "id": "aeaa91f8",
   "metadata": {},
   "outputs": [
    {
     "name": "stdout",
     "output_type": "stream",
     "text": [
      "[2, 4, 6, 8]\n"
     ]
    }
   ],
   "source": [
    "list1=[1,2,3,4,5,6,7,8]\n",
    "list2=list(filter(even_,list1))\n",
    "print(list2)"
   ]
  },
  {
   "cell_type": "code",
   "execution_count": 3,
   "id": "ae0181df",
   "metadata": {},
   "outputs": [
    {
     "name": "stdout",
     "output_type": "stream",
     "text": [
      "[6, 7, 8, 9, 11]\n"
     ]
    }
   ],
   "source": [
    "## filter function with lambda\n",
    "lista=[1,2,2,3,3,4,5,6,7,8,9,11]\n",
    "listb=list(filter(lambda i:i>5,lista))\n",
    "print(listb)"
   ]
  },
  {
   "cell_type": "code",
   "execution_count": 4,
   "id": "b501fec4",
   "metadata": {},
   "outputs": [
    {
     "name": "stdout",
     "output_type": "stream",
     "text": [
      "[6, 7, 8, 9]\n"
     ]
    }
   ],
   "source": [
    "## filter function with lambda and multiple conditions\n",
    "lista=[1,2,2,3,3,4,5,6,7,8,9,11]\n",
    "listc=list(filter(lambda i:i>5 and i<11,lista))\n",
    "print(listc)"
   ]
  },
  {
   "cell_type": "code",
   "execution_count": 5,
   "id": "d8223ebc",
   "metadata": {},
   "outputs": [
    {
     "data": {
      "text/plain": [
       "[{'name': 'raheel', 'age': 21}, {'name': 'ahsan', 'age': 22}]"
      ]
     },
     "execution_count": 5,
     "metadata": {},
     "output_type": "execute_result"
    }
   ],
   "source": [
    "## filter in dictionaries with condition\n",
    "list__A=[\n",
    "    {'name':'raheel','age':21},\n",
    "    {'name':'sajid','age':19},\n",
    "    {'name':'ahsan','age':22}\n",
    "]\n",
    "def get_age(person):\n",
    "    return person['age']>20\n",
    "\n",
    "list(filter(get_age,list__A))"
   ]
  },
  {
   "cell_type": "code",
   "execution_count": null,
   "id": "a84bc334",
   "metadata": {},
   "outputs": [],
   "source": []
  }
 ],
 "metadata": {
  "kernelspec": {
   "display_name": "Python 3",
   "language": "python",
   "name": "python3"
  },
  "language_info": {
   "codemirror_mode": {
    "name": "ipython",
    "version": 3
   },
   "file_extension": ".py",
   "mimetype": "text/x-python",
   "name": "python",
   "nbconvert_exporter": "python",
   "pygments_lexer": "ipython3",
   "version": "3.12.0"
  }
 },
 "nbformat": 4,
 "nbformat_minor": 5
}
