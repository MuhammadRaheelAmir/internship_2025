{
 "cells": [
  {
   "cell_type": "markdown",
   "id": "c05f8158",
   "metadata": {},
   "source": [
    "## SQL and SQLite\n",
    "# SQL (Structured Query Language) is a standard language for managing and manipulating relational databases.\n",
    "# Requires server \n",
    "# SQLite is a self-contained and zero-configuration database engine that is widely used for embedded database systems.\n",
    "# Doesn't require server"
   ]
  },
  {
   "cell_type": "code",
   "execution_count": 1,
   "id": "516da1d7",
   "metadata": {},
   "outputs": [],
   "source": [
    "import sqlite3"
   ]
  },
  {
   "cell_type": "code",
   "execution_count": 2,
   "id": "bb74d2fb",
   "metadata": {},
   "outputs": [
    {
     "data": {
      "text/plain": [
       "<sqlite3.Connection at 0x272063913f0>"
      ]
     },
     "execution_count": 2,
     "metadata": {},
     "output_type": "execute_result"
    }
   ],
   "source": [
    "## Creating a connection\n",
    "connection=sqlite3.Connection('example.db')\n",
    "connection"
   ]
  },
  {
   "cell_type": "code",
   "execution_count": null,
   "id": "04a4dcd8",
   "metadata": {},
   "outputs": [
    {
     "data": {
      "text/plain": [
       "<sqlite3.Cursor at 0x2720657eac0>"
      ]
     },
     "execution_count": 4,
     "metadata": {},
     "output_type": "execute_result"
    }
   ],
   "source": [
    "## Cursor\n",
    "## for CRUD functions- Create, Read, Update, Delete\n",
    "cursor=connection.cursor()\n",
    "cursor"
   ]
  },
  {
   "cell_type": "code",
   "execution_count": 9,
   "id": "b0fff7a5",
   "metadata": {},
   "outputs": [],
   "source": [
    "## Creating a table\n",
    "cursor.execute('''\n",
    "Create Table If Not Exists employees(\n",
    "    id Integer Primary Key,\n",
    "    name Text Not Null,\n",
    "    age Integer,\n",
    "    department Text\n",
    "    )\n",
    "''')\n",
    "## Commit - to store it\n",
    "connection.commit()"
   ]
  },
  {
   "cell_type": "code",
   "execution_count": 10,
   "id": "06575d35",
   "metadata": {},
   "outputs": [
    {
     "data": {
      "text/plain": [
       "<sqlite3.Cursor at 0x2720657eac0>"
      ]
     },
     "execution_count": 10,
     "metadata": {},
     "output_type": "execute_result"
    }
   ],
   "source": [
    "cursor.execute('''\n",
    "Select * from employees\n",
    "''')"
   ]
  },
  {
   "cell_type": "code",
   "execution_count": 13,
   "id": "3002fbb3",
   "metadata": {},
   "outputs": [],
   "source": [
    "## Inserting data into table\n",
    "cursor.execute('''\n",
    "Insert Into employees(name,age,department)\n",
    "               values('Raheel',21,'Microbiology')\n",
    "''')\n",
    "cursor.execute('''\n",
    "Insert Into employees(name,age,department)\n",
    "               values('Hamza',19,'Mathematics')\n",
    "''')\n",
    "cursor.execute('''\n",
    "Insert Into employees(name,age,department)\n",
    "               values('Anas',21,'Plant pathology')\n",
    "''')\n",
    "connection.commit()"
   ]
  },
  {
   "cell_type": "code",
   "execution_count": 15,
   "id": "7cbbd81f",
   "metadata": {},
   "outputs": [
    {
     "name": "stdout",
     "output_type": "stream",
     "text": [
      "(1, 'Raheel', 21, 'Microbiology')\n",
      "(2, 'Hamza', 19, 'Mathematics')\n",
      "(3, 'Anas', 21, 'Plant pathology')\n"
     ]
    }
   ],
   "source": [
    "## Reading data from table\n",
    "cursor.execute('Select * from employees')\n",
    "rows=cursor.fetchall()\n",
    "\n",
    "for i in rows:\n",
    "    print(i)"
   ]
  },
  {
   "cell_type": "code",
   "execution_count": 16,
   "id": "b08deef4",
   "metadata": {},
   "outputs": [],
   "source": [
    "## Update data in table\n",
    "cursor.execute('''\n",
    "Update employees\n",
    "set age=22\n",
    "where name='Hamza'\n",
    "''')\n",
    "connection.commit()"
   ]
  },
  {
   "cell_type": "code",
   "execution_count": 18,
   "id": "c10468eb",
   "metadata": {},
   "outputs": [],
   "source": [
    "## Deleting data from table\n",
    "cursor.execute('''\n",
    "Delete from employees\n",
    "where name='Hamza'\n",
    "''')\n",
    "connection.commit()"
   ]
  },
  {
   "cell_type": "code",
   "execution_count": null,
   "id": "224f0315",
   "metadata": {},
   "outputs": [
    {
     "name": "stdout",
     "output_type": "stream",
     "text": [
      "(1, 'Raheel', 21, 'Microbiology')\n",
      "(3, 'Anas', 21, 'Plant pathology')\n"
     ]
    }
   ],
   "source": [
    "## Reading the update record\n",
    "cursor.execute('Select * from employees')\n",
    "rows=cursor.fetchall()\n",
    "\n",
    "for i in rows:\n",
    "    print(i)"
   ]
  },
  {
   "cell_type": "code",
   "execution_count": 22,
   "id": "b1b9928e",
   "metadata": {},
   "outputs": [],
   "source": [
    "## Working with sales data\n",
    "\n",
    "## Creating Connection\n",
    "Connection=sqlite3.Connection('sales_data.db')\n",
    "Cursor=Connection.cursor()\n",
    "## Creating a table\n",
    "cursor.execute('''\n",
    "Create Table If Not Exists sales(\n",
    "    id Integer primary Key,\n",
    "    date Integer Not Null,\n",
    "    product text Not Null,\n",
    "    sales Integer ,\n",
    "    region Text\n",
    ")\n",
    "''')\n",
    "## Insert data into sales table\n",
    "sales_data=[\n",
    "    ('12-2-2021','product1',100,'south'),\n",
    "    ('22-1-2024','product2',120,'west'),\n",
    "    ('1-1-2025','product3',110,'north'),\n",
    "    ('13-6-2025','product4',150,'east')\n",
    "]\n",
    "cursor.executemany('''\n",
    "Insert Into sales(date,product,sales,region)\n",
    "                values(?,?,?,?)\n",
    "''',sales_data)\n",
    "connection.commit()"
   ]
  },
  {
   "cell_type": "code",
   "execution_count": 23,
   "id": "abe55c0d",
   "metadata": {},
   "outputs": [
    {
     "name": "stdout",
     "output_type": "stream",
     "text": [
      "(1, '12-2-2021', 'product1', 100, 'south')\n",
      "(2, '22-1-2024', 'product2', 120, 'west')\n",
      "(3, '1-1-2025', 'product3', 110, 'north')\n",
      "(4, '13-6-2025', 'product4', 150, 'east')\n"
     ]
    }
   ],
   "source": [
    "## Query data from sales table\n",
    "cursor.execute('Select * from sales')\n",
    "rows=cursor.fetchall()\n",
    "for i in rows:\n",
    "    print(i)"
   ]
  },
  {
   "cell_type": "code",
   "execution_count": 24,
   "id": "9272bc75",
   "metadata": {},
   "outputs": [],
   "source": [
    "## Closing the connection\n",
    "connection.close()"
   ]
  },
  {
   "cell_type": "code",
   "execution_count": null,
   "id": "a8367ae7",
   "metadata": {},
   "outputs": [
    {
     "ename": "ProgrammingError",
     "evalue": "Cannot operate on a closed database.",
     "output_type": "error",
     "traceback": [
      "\u001b[31m---------------------------------------------------------------------------\u001b[39m",
      "\u001b[31mProgrammingError\u001b[39m                          Traceback (most recent call last)",
      "\u001b[36mCell\u001b[39m\u001b[36m \u001b[39m\u001b[32mIn[34]\u001b[39m\u001b[32m, line 2\u001b[39m\n\u001b[32m      1\u001b[39m \u001b[38;5;66;03m## Reading from closed connection raises error\u001b[39;00m\n\u001b[32m----> \u001b[39m\u001b[32m2\u001b[39m \u001b[43mcursor\u001b[49m\u001b[43m.\u001b[49m\u001b[43mexecute\u001b[49m\u001b[43m(\u001b[49m\u001b[33;43m'\u001b[39;49m\u001b[33;43mSelect * from sales\u001b[39;49m\u001b[33;43m'\u001b[39;49m\u001b[43m)\u001b[49m\n\u001b[32m      3\u001b[39m rows=cursor.fetchall()\n\u001b[32m      4\u001b[39m \u001b[38;5;28;01mfor\u001b[39;00m i \u001b[38;5;129;01min\u001b[39;00m rows:\n",
      "\u001b[31mProgrammingError\u001b[39m: Cannot operate on a closed database."
     ]
    }
   ],
   "source": [
    "## Reading from closed connection raises error\n",
    "cursor.execute('Select * from sales')\n",
    "rows=cursor.fetchall()\n",
    "for i in rows:\n",
    "    print(i)"
   ]
  },
  {
   "cell_type": "code",
   "execution_count": null,
   "id": "8ddf2cf0",
   "metadata": {},
   "outputs": [],
   "source": []
  }
 ],
 "metadata": {
  "kernelspec": {
   "display_name": "Python 3",
   "language": "python",
   "name": "python3"
  },
  "language_info": {
   "codemirror_mode": {
    "name": "ipython",
    "version": 3
   },
   "file_extension": ".py",
   "mimetype": "text/x-python",
   "name": "python",
   "nbconvert_exporter": "python",
   "pygments_lexer": "ipython3",
   "version": "3.12.0"
  }
 },
 "nbformat": 4,
 "nbformat_minor": 5
}
