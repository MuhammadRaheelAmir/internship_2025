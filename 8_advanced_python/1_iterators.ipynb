{
 "cells": [
  {
   "cell_type": "markdown",
   "id": "0dc03f54",
   "metadata": {},
   "source": [
    "## Iterators\n",
    "## allows for efficient looping and memory management\n",
    "## provides a way to access elements of a collection sequentially without exposing underlying structure"
   ]
  },
  {
   "cell_type": "code",
   "execution_count": 53,
   "id": "81e8f9a1",
   "metadata": {},
   "outputs": [
    {
     "name": "stdout",
     "output_type": "stream",
     "text": [
      "(1, 2, 3, 4)\n",
      "1\n",
      "2\n",
      "3\n",
      "4\n",
      "<class 'tuple'>\n"
     ]
    }
   ],
   "source": [
    "lst1=(1,2,3,4)\n",
    "print(lst1)\n",
    "for i in lst1:\n",
    "    print (i)\n",
    "print(type(lst1))"
   ]
  },
  {
   "cell_type": "code",
   "execution_count": 54,
   "id": "edfc1d70",
   "metadata": {},
   "outputs": [
    {
     "name": "stdout",
     "output_type": "stream",
     "text": [
      "<class 'tuple_iterator'>\n"
     ]
    },
    {
     "data": {
      "text/plain": [
       "<tuple_iterator at 0x1db2569de40>"
      ]
     },
     "execution_count": 54,
     "metadata": {},
     "output_type": "execute_result"
    }
   ],
   "source": [
    "## iter\n",
    "## takes an iterable (list,tuple etc) and return an iterator\n",
    "lst2=iter(lst1)\n",
    "print(type(lst2))\n",
    "iterator"
   ]
  },
  {
   "cell_type": "code",
   "execution_count": 55,
   "id": "a4f2462a",
   "metadata": {},
   "outputs": [
    {
     "name": "stdout",
     "output_type": "stream",
     "text": [
      "1\n",
      "2\n",
      "3\n",
      "4\n"
     ]
    },
    {
     "ename": "StopIteration",
     "evalue": "",
     "output_type": "error",
     "traceback": [
      "\u001b[31m---------------------------------------------------------------------------\u001b[39m",
      "\u001b[31mStopIteration\u001b[39m                             Traceback (most recent call last)",
      "\u001b[36mCell\u001b[39m\u001b[36m \u001b[39m\u001b[32mIn[55]\u001b[39m\u001b[32m, line 7\u001b[39m\n\u001b[32m      5\u001b[39m \u001b[38;5;28mprint\u001b[39m(\u001b[38;5;28mnext\u001b[39m(lst2))\n\u001b[32m      6\u001b[39m \u001b[38;5;28mprint\u001b[39m(\u001b[38;5;28mnext\u001b[39m(lst2))\n\u001b[32m----> \u001b[39m\u001b[32m7\u001b[39m \u001b[38;5;28mprint\u001b[39m(\u001b[38;5;28;43mnext\u001b[39;49m\u001b[43m(\u001b[49m\u001b[43mlst2\u001b[49m\u001b[43m)\u001b[49m) \u001b[38;5;66;03m# lst2 had 4 items , not 5\u001b[39;00m\n",
      "\u001b[31mStopIteration\u001b[39m: "
     ]
    }
   ],
   "source": [
    "## next--allows to fetch one item at a time\n",
    "## raises the StopIteration Exception when out of range \n",
    "print(next(lst2))\n",
    "print(next(lst2))\n",
    "print(next(lst2))\n",
    "print(next(lst2))\n",
    "print(next(lst2)) # lst2 had 4 items , not 5"
   ]
  },
  {
   "cell_type": "code",
   "execution_count": 52,
   "id": "c91b98f1",
   "metadata": {},
   "outputs": [
    {
     "name": "stdout",
     "output_type": "stream",
     "text": [
      "H\n",
      "e\n",
      "y\n"
     ]
    },
    {
     "ename": "StopIteration",
     "evalue": "",
     "output_type": "error",
     "traceback": [
      "\u001b[31m---------------------------------------------------------------------------\u001b[39m",
      "\u001b[31mStopIteration\u001b[39m                             Traceback (most recent call last)",
      "\u001b[36mCell\u001b[39m\u001b[36m \u001b[39m\u001b[32mIn[52]\u001b[39m\u001b[32m, line 8\u001b[39m\n\u001b[32m      6\u001b[39m \u001b[38;5;28mprint\u001b[39m(\u001b[38;5;28mnext\u001b[39m(string2))\u001b[38;5;66;03m# e\u001b[39;00m\n\u001b[32m      7\u001b[39m \u001b[38;5;28mprint\u001b[39m(\u001b[38;5;28mnext\u001b[39m(string2))\u001b[38;5;66;03m# y\u001b[39;00m\n\u001b[32m----> \u001b[39m\u001b[32m8\u001b[39m \u001b[38;5;28mprint\u001b[39m(\u001b[38;5;28;43mnext\u001b[39;49m\u001b[43m(\u001b[49m\u001b[43mstring2\u001b[49m\u001b[43m)\u001b[49m)\u001b[38;5;66;03m# StopIteration\u001b[39;00m\n",
      "\u001b[31mStopIteration\u001b[39m: "
     ]
    }
   ],
   "source": [
    "## iter over string\n",
    "\n",
    "string1=\"Hey\"\n",
    "string2=iter(string1)\n",
    "print(next(string2))# h\n",
    "print(next(string2))# e\n",
    "print(next(string2))# y\n",
    "print(next(string2))# StopIteration"
   ]
  },
  {
   "cell_type": "code",
   "execution_count": 47,
   "id": "cf31ccb2",
   "metadata": {},
   "outputs": [
    {
     "name": "stdout",
     "output_type": "stream",
     "text": [
      "2\n",
      "4\n",
      "6\n",
      "8\n",
      "10\n"
     ]
    }
   ],
   "source": [
    "## custom iter\n",
    "\n",
    "class evens:\n",
    "    def __iter__(self):\n",
    "        self.num=2\n",
    "        return self\n",
    "    def __next__(self):\n",
    "        if self.num>10:\n",
    "            raise StopIteration\n",
    "        result= self.num\n",
    "        self.num += 2\n",
    "        return result\n",
    "\n",
    "num=evens()\n",
    "for i in num:\n",
    "    print(i)"
   ]
  },
  {
   "cell_type": "code",
   "execution_count": null,
   "id": "8a748455",
   "metadata": {},
   "outputs": [],
   "source": []
  }
 ],
 "metadata": {
  "kernelspec": {
   "display_name": "Python 3",
   "language": "python",
   "name": "python3"
  },
  "language_info": {
   "codemirror_mode": {
    "name": "ipython",
    "version": 3
   },
   "file_extension": ".py",
   "mimetype": "text/x-python",
   "name": "python",
   "nbconvert_exporter": "python",
   "pygments_lexer": "ipython3",
   "version": "3.12.0"
  }
 },
 "nbformat": 4,
 "nbformat_minor": 5
}
