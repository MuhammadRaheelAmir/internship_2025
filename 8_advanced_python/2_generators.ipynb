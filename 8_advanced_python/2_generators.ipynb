{
 "cells": [
  {
   "cell_type": "markdown",
   "id": "df2553f8",
   "metadata": {},
   "source": [
    "## Generator\n",
    "## special type of iterator that yields values one at a time using the \"yield\" keyword\n",
    "## used for writing memory-efficient, elegant code\n",
    "## generates value over, do not store them in memory\n"
   ]
  },
  {
   "cell_type": "code",
   "execution_count": 20,
   "id": "2ac2d728",
   "metadata": {},
   "outputs": [
    {
     "data": {
      "text/plain": [
       "0"
      ]
     },
     "execution_count": 20,
     "metadata": {},
     "output_type": "execute_result"
    }
   ],
   "source": [
    "def square(n):\n",
    "    for i in range(3):\n",
    "        return i*i\n",
    "square(6) ##range starts from 0, hence will remain 0 and no further output will emerge"
   ]
  },
  {
   "cell_type": "code",
   "execution_count": 23,
   "id": "68903fe5",
   "metadata": {},
   "outputs": [
    {
     "name": "stdout",
     "output_type": "stream",
     "text": [
      "0\n",
      "1\n",
      "4\n"
     ]
    }
   ],
   "source": [
    "## yield as generator\n",
    "\n",
    "def sqr(n):\n",
    "    for i in range(3):\n",
    "        yield i*i\n",
    "for i in sqr(3):\n",
    "    print(i)"
   ]
  },
  {
   "cell_type": "code",
   "execution_count": null,
   "id": "203f81a8",
   "metadata": {},
   "outputs": [
    {
     "name": "stdout",
     "output_type": "stream",
     "text": [
      "5\n",
      "4\n",
      "3\n",
      "2\n",
      "1\n"
     ]
    }
   ],
   "source": [
    "## defining a custom generator\n",
    "\n",
    "def countdown(n):\n",
    "    while n>0:\n",
    "        yield n\n",
    "        n-=1\n",
    "\n",
    "for i in countdown(5):\n",
    "    print(i)\n",
    "    "
   ]
  },
  {
   "cell_type": "code",
   "execution_count": 7,
   "id": "22473ade",
   "metadata": {},
   "outputs": [],
   "source": [
    "## reading large file\n",
    "\n",
    "def read_large_file(file_path):\n",
    "    with open(file_path,'r') as file:\n",
    "        for line in file:\n",
    "            yield line.strip()\n"
   ]
  },
  {
   "cell_type": "code",
   "execution_count": 10,
   "id": "7fe3a3ee",
   "metadata": {},
   "outputs": [
    {
     "name": "stdout",
     "output_type": "stream",
     "text": [
      "🔥Python 2.0 was released on 16 October 2000,\n",
      "with many major new features such as list comprehensions,\n",
      "cycle-detecting garbage collection, reference counting,\n",
      "and Unicode support.[49] Python 2.7's end-of-life was initially set for 2015,\n",
      "then postponed to 2020 out of concern that  large body of existing code could not easily be forward-ported to Python 3.[50][51] No further security patches or other improvements will be released for it.[52][53] While Python 2.7 and older versions are officially unsupported,\n",
      "a different unofficial Python implementation, PyPy, continues to support Python 2, i.e. \"2.7.18+\" (plus 3.10), with the plus meaning (at least some) \"backported security updates\".[54]\n"
     ]
    }
   ],
   "source": [
    "file_path='file.txt'\n",
    "for line in read_large_file(file_path):\n",
    "    print(line)"
   ]
  },
  {
   "cell_type": "code",
   "execution_count": null,
   "id": "663f2c17",
   "metadata": {},
   "outputs": [],
   "source": []
  }
 ],
 "metadata": {
  "kernelspec": {
   "display_name": "Python 3",
   "language": "python",
   "name": "python3"
  },
  "language_info": {
   "codemirror_mode": {
    "name": "ipython",
    "version": 3
   },
   "file_extension": ".py",
   "mimetype": "text/x-python",
   "name": "python",
   "nbconvert_exporter": "python",
   "pygments_lexer": "ipython3",
   "version": "3.12.0"
  }
 },
 "nbformat": 4,
 "nbformat_minor": 5
}
