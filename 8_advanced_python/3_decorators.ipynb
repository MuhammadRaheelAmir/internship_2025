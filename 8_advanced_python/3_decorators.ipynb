{
 "cells": [
  {
   "cell_type": "markdown",
   "id": "b5c132e8",
   "metadata": {},
   "source": [
    "## Decorators are functions that modify a function and return it."
   ]
  },
  {
   "cell_type": "markdown",
   "id": "86730083",
   "metadata": {},
   "source": [
    "## copying a function\n",
    "\n",
    "## closures\n",
    "\n",
    "## decorators"
   ]
  },
  {
   "cell_type": "code",
   "execution_count": 4,
   "id": "9ee23923",
   "metadata": {},
   "outputs": [
    {
     "name": "stdout",
     "output_type": "stream",
     "text": [
      "welcome\n"
     ]
    }
   ],
   "source": [
    "## copying a function\n",
    "\n",
    "greet=\"welcome\"\n",
    "wel=greet\n",
    "print(wel)"
   ]
  },
  {
   "cell_type": "code",
   "execution_count": null,
   "id": "97198019",
   "metadata": {},
   "outputs": [
    {
     "name": "stdout",
     "output_type": "stream",
     "text": [
      "welcome\n"
     ]
    }
   ],
   "source": [
    "del greet\n",
    "print(wel) # function copied"
   ]
  },
  {
   "cell_type": "code",
   "execution_count": null,
   "id": "928fa779",
   "metadata": {},
   "outputs": [
    {
     "name": "stdout",
     "output_type": "stream",
     "text": [
      "Hithere\n",
      "raheel\n",
      "thanks for visiting us\n"
     ]
    }
   ],
   "source": [
    "## closures\n",
    "## can access variable from its enclosing scope\n",
    "\n",
    "def greet(msg):\n",
    "    def welcome():\n",
    "        print(\"Hithere\")\n",
    "        print(msg)\n",
    "        print(\"thanks for visiting us\")\n",
    "    return welcome()\n",
    "greet('raheel')"
   ]
  },
  {
   "cell_type": "code",
   "execution_count": 14,
   "id": "ab44c6fc",
   "metadata": {},
   "outputs": [
    {
     "name": "stdout",
     "output_type": "stream",
     "text": [
      "Hithere\n",
      "Jonhy Cage\n",
      "thanks for visiting us\n"
     ]
    }
   ],
   "source": [
    "greet('Jonhy Cage')"
   ]
  },
  {
   "cell_type": "code",
   "execution_count": 34,
   "id": "824d98f7",
   "metadata": {},
   "outputs": [
    {
     "name": "stdout",
     "output_type": "stream",
     "text": [
      "Hithere\n",
      "4\n",
      "here is your result\n"
     ]
    }
   ],
   "source": [
    "## closure with function\n",
    "\n",
    "def msg(func,lst):\n",
    "    def greet():\n",
    "        print('Hithere')\n",
    "        print(func(lst))\n",
    "        print('here is your result')\n",
    "    return greet()\n",
    "\n",
    "msg(len,[1,2,3,4])"
   ]
  },
  {
   "cell_type": "code",
   "execution_count": 51,
   "id": "6039a56c",
   "metadata": {},
   "outputs": [],
   "source": [
    "## Decorator\n",
    "\n",
    "def main_class(func):\n",
    "    def sub_class():\n",
    "        print('Hithere')\n",
    "        func() ## later replaced by decorator's message\n",
    "        print('Thanks for using the function')\n",
    "    return sub_class()"
   ]
  },
  {
   "cell_type": "code",
   "execution_count": 52,
   "id": "7131de47",
   "metadata": {},
   "outputs": [
    {
     "name": "stdout",
     "output_type": "stream",
     "text": [
      "This function is used to introduce the game\n"
     ]
    }
   ],
   "source": [
    "def intro():\n",
    "    print('This function is used to introduce the game')\n",
    "intro()"
   ]
  },
  {
   "cell_type": "code",
   "execution_count": 53,
   "id": "fe350a08",
   "metadata": {},
   "outputs": [
    {
     "name": "stdout",
     "output_type": "stream",
     "text": [
      "Hithere\n",
      "This function is used to introduce the game\n",
      "Thanks for using the function\n"
     ]
    }
   ],
   "source": [
    "main_class(intro)"
   ]
  },
  {
   "cell_type": "code",
   "execution_count": 54,
   "id": "b4f425f8",
   "metadata": {},
   "outputs": [
    {
     "name": "stdout",
     "output_type": "stream",
     "text": [
      "Hithere\n",
      "This the functionality of decorator\n",
      "It replaces the func() with the message defined in the subclass\n",
      "Thanks for using the function\n"
     ]
    }
   ],
   "source": [
    "@main_class #decorator\n",
    "def intro():\n",
    "    print('This the functionality of decorator\\nIt replaces the func() with the message defined in the subclass')"
   ]
  },
  {
   "cell_type": "code",
   "execution_count": null,
   "id": "e82e1a82",
   "metadata": {},
   "outputs": [],
   "source": []
  }
 ],
 "metadata": {
  "kernelspec": {
   "display_name": "Python 3",
   "language": "python",
   "name": "python3"
  },
  "language_info": {
   "codemirror_mode": {
    "name": "ipython",
    "version": 3
   },
   "file_extension": ".py",
   "mimetype": "text/x-python",
   "name": "python",
   "nbconvert_exporter": "python",
   "pygments_lexer": "ipython3",
   "version": "3.12.0"
  }
 },
 "nbformat": 4,
 "nbformat_minor": 5
}
