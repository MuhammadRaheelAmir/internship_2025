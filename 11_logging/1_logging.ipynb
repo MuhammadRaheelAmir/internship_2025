{
 "cells": [
  {
   "cell_type": "code",
   "execution_count": 1,
   "id": "99a430ea",
   "metadata": {},
   "outputs": [],
   "source": [
    "## Logging\n",
    "import logging"
   ]
  },
  {
   "cell_type": "code",
   "execution_count": 2,
   "id": "bd30a851",
   "metadata": {},
   "outputs": [],
   "source": [
    "## Configuration\n",
    "logging.basicConfig(\n",
    "    filename='app.log',\n",
    "    filemode='w',\n",
    "    level=logging.DEBUG,\n",
    "    format='%(asctime)s-%(name)s-%(levelname)s-%(message)s',\n",
    "    datefmt='%Y-%m-%d %H:%M:%S'\n",
    "    \n",
    ")\n",
    "\n"
   ]
  },
  {
   "cell_type": "code",
   "execution_count": 4,
   "id": "d8ef569f",
   "metadata": {},
   "outputs": [],
   "source": [
    "logging.debug(\"This is a debug message\")\n",
    "logging.info(\"This is an info message\")"
   ]
  },
  {
   "cell_type": "code",
   "execution_count": 5,
   "id": "e9f90f86",
   "metadata": {},
   "outputs": [],
   "source": [
    "logging.warning(\"This is a warning message\")\n",
    "logging.error(\"This is an error message\")\n",
    "logging.critical(\"This code will not execute\")"
   ]
  },
  {
   "cell_type": "code",
   "execution_count": null,
   "id": "9fbab755",
   "metadata": {},
   "outputs": [],
   "source": []
  }
 ],
 "metadata": {
  "kernelspec": {
   "display_name": "Python 3",
   "language": "python",
   "name": "python3"
  },
  "language_info": {
   "codemirror_mode": {
    "name": "ipython",
    "version": 3
   },
   "file_extension": ".py",
   "mimetype": "text/x-python",
   "name": "python",
   "nbconvert_exporter": "python",
   "pygments_lexer": "ipython3",
   "version": "3.12.0"
  }
 },
 "nbformat": 4,
 "nbformat_minor": 5
}
