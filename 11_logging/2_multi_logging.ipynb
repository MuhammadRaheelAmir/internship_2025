{
 "cells": [
  {
   "cell_type": "code",
   "execution_count": 1,
   "id": "38e26958",
   "metadata": {},
   "outputs": [],
   "source": [
    "## Import logging\n",
    "import logging"
   ]
  },
  {
   "cell_type": "code",
   "execution_count": 2,
   "id": "9f243cc7",
   "metadata": {},
   "outputs": [],
   "source": [
    "## Basic Configuration\n",
    "logging.basicConfig(\n",
    "    level=logging.DEBUG,\n",
    "    format='%(asctime)s-%(name)s-%(levelname)s-%(message)s',\n",
    "    datefmt='%Y-%m-%d %H:%M:%S'\n",
    "\n",
    ")"
   ]
  },
  {
   "cell_type": "code",
   "execution_count": 3,
   "id": "016a6370",
   "metadata": {},
   "outputs": [],
   "source": [
    "## Loggers\n",
    "logger1= logging.getLogger(\"module1\")\n",
    "logger1.setLevel(logging.DEBUG)\n",
    "logger2= logging.getLogger(\"module2\")\n",
    "logger2.setLevel(logging.DEBUG)"
   ]
  },
  {
   "cell_type": "code",
   "execution_count": 4,
   "id": "e1d1c919",
   "metadata": {},
   "outputs": [
    {
     "name": "stderr",
     "output_type": "stream",
     "text": [
      "2025-08-07 20:40:49-module1-DEBUG-This is a debug message\n",
      "2025-08-07 20:40:49-module2-DEBUG-This is a debug message\n",
      "2025-08-07 20:40:49-module1-ERROR-This is an error message\n",
      "2025-08-07 20:40:49-module2-ERROR-This is an error message\n"
     ]
    }
   ],
   "source": [
    "## Log messages\n",
    "logger1.debug(\"This is a debug message\")\n",
    "logger2.debug(\"This is a debug message\")\n",
    "logger1.error(\"This is an error message\")\n",
    "logger2.error(\"This is an error message\")"
   ]
  }
 ],
 "metadata": {
  "kernelspec": {
   "display_name": "Python 3",
   "language": "python",
   "name": "python3"
  },
  "language_info": {
   "codemirror_mode": {
    "name": "ipython",
    "version": 3
   },
   "file_extension": ".py",
   "mimetype": "text/x-python",
   "name": "python",
   "nbconvert_exporter": "python",
   "pygments_lexer": "ipython3",
   "version": "3.12.0"
  }
 },
 "nbformat": 4,
 "nbformat_minor": 5
}
