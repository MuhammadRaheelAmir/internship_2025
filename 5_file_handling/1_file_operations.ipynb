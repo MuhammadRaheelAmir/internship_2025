{
 "cells": [
  {
   "cell_type": "markdown",
   "id": "c078f80a",
   "metadata": {},
   "source": [
    "## used to read and write text and binary files\n",
    "\n",
    "## contains multiple built-in functions"
   ]
  },
  {
   "cell_type": "code",
   "execution_count": 14,
   "id": "5b0bd058",
   "metadata": {},
   "outputs": [
    {
     "name": "stdout",
     "output_type": "stream",
     "text": [
      "Raheel Amir \n",
      "belongs to a \n",
      "poet family\n"
     ]
    }
   ],
   "source": [
    "## reading a whole file\n",
    "\n",
    "with open('sample.txt',mode='r') as file:\n",
    "    content=file.read()\n",
    "    print (content)"
   ]
  },
  {
   "cell_type": "code",
   "execution_count": 18,
   "id": "66170e4f",
   "metadata": {},
   "outputs": [
    {
     "name": "stdout",
     "output_type": "stream",
     "text": [
      "['Raheel', 'Amir']\n",
      "['belongs', 'to', 'a']\n",
      "['poet', 'family']\n"
     ]
    }
   ],
   "source": [
    "## reading lines from a file\n",
    "\n",
    "with open('sample.txt','r') as file:\n",
    "    for line in file:\n",
    "        line=(line.split())\n",
    "        print(line)"
   ]
  },
  {
   "cell_type": "code",
   "execution_count": null,
   "id": "c7da50a9",
   "metadata": {},
   "outputs": [],
   "source": [
    "## writing to a file\n",
    "# overwrites the already written file\n",
    "\n",
    "with open('sample.txt','w') as file:\n",
    "    file.write(\"you're not brave, the men are brave\")"
   ]
  },
  {
   "cell_type": "code",
   "execution_count": 23,
   "id": "41e00c06",
   "metadata": {},
   "outputs": [],
   "source": [
    "## appending a file\n",
    "# does not overwrite the previous data\n",
    "# adds new data\n",
    "\n",
    "with open('sample.txt','a')  as file:\n",
    "    file.write(\"\\n 'Do you bleed?.....Now you will'\")\n"
   ]
  },
  {
   "cell_type": "code",
   "execution_count": 26,
   "id": "a398124d",
   "metadata": {},
   "outputs": [],
   "source": [
    "## writing lines to a file\n",
    "\n",
    "lines=('\\n','Hithere\\n','Welcome to Wrestlemania_32\\n')\n",
    "with open('sample.txt','a') as file:\n",
    "    file.writelines(lines)"
   ]
  },
  {
   "cell_type": "code",
   "execution_count": 30,
   "id": "2c0c9c6c",
   "metadata": {},
   "outputs": [],
   "source": [
    "## writing to a binary file\n",
    "\n",
    "data=b'\\x00\\x11\\x01\\x10'\n",
    "with open('sample_2.txt','wb') as file:\n",
    "    file.write(data)"
   ]
  },
  {
   "cell_type": "code",
   "execution_count": 35,
   "id": "0ab16d9a",
   "metadata": {},
   "outputs": [
    {
     "name": "stdout",
     "output_type": "stream",
     "text": [
      "b'\\x00\\x11\\x01\\x10'\n"
     ]
    }
   ],
   "source": [
    "## reading a binary file\n",
    "\n",
    "with open('sample_2.txt','rb') as file:\n",
    "    print(file.read())"
   ]
  },
  {
   "cell_type": "code",
   "execution_count": 46,
   "id": "b912b5aa",
   "metadata": {},
   "outputs": [],
   "source": [
    "## copying data from file\n",
    "# reading one and writing the data to the other file\n",
    "\n",
    "with open('sample.txt','r') as file_1:\n",
    "    contents=file_1.read()\n",
    "\n",
    "with open('sample_3.txt','w') as file_2:\n",
    "    file_2.write(contents)"
   ]
  },
  {
   "cell_type": "code",
   "execution_count": 63,
   "id": "bb88ec9f",
   "metadata": {},
   "outputs": [
    {
     "name": "stdout",
     "output_type": "stream",
     "text": [
      "lines:66,words:726,characters:66\n"
     ]
    }
   ],
   "source": [
    "## counting lines, words and characters in a file\n",
    "\n",
    "def count_file(filepath):\n",
    "    with open(filepath,'r') as file:\n",
    "        Lines =file.readlines()\n",
    "        line_count=len(lines)\n",
    "        word_count=sum(len(lines.split()) for line in lines)\n",
    "        char_count=sum(len(line)for line in lines)\n",
    "    return line_count,word_count,char_count\n",
    "\n",
    "\n",
    "filepath= 'sample.txt'\n",
    "lines,words,characters=count_file(filepath)\n",
    "print(f'lines:{lines},words:{words},characters:{characters}')\n",
    "\n"
   ]
  },
  {
   "cell_type": "code",
   "execution_count": 66,
   "id": "a7157396",
   "metadata": {},
   "outputs": [
    {
     "name": "stdout",
     "output_type": "stream",
     "text": [
      "hello guys\n"
     ]
    }
   ],
   "source": [
    "## w+ allows to both read and write to a file\n",
    "## if file doesn't exist, it will be created\n",
    "\n",
    "with open('example_file.txt','w+') as file:\n",
    "    file.write('hello guys')\n",
    "    #move cursor to the start\n",
    "    file.seek(0)\n",
    "    #read the file\n",
    "\n",
    "with open ('example_file.txt','r') as file:\n",
    "    cont=file.read()\n",
    "    print(cont)"
   ]
  },
  {
   "cell_type": "code",
   "execution_count": null,
   "id": "dd03eb1d",
   "metadata": {},
   "outputs": [],
   "source": []
  }
 ],
 "metadata": {
  "kernelspec": {
   "display_name": "Python 3",
   "language": "python",
   "name": "python3"
  },
  "language_info": {
   "codemirror_mode": {
    "name": "ipython",
    "version": 3
   },
   "file_extension": ".py",
   "mimetype": "text/x-python",
   "name": "python",
   "nbconvert_exporter": "python",
   "pygments_lexer": "ipython3",
   "version": "3.12.0"
  }
 },
 "nbformat": 4,
 "nbformat_minor": 5
}
