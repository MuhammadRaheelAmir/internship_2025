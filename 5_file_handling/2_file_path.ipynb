{
 "cells": [
  {
   "cell_type": "code",
   "execution_count": 2,
   "id": "9afee539",
   "metadata": {},
   "outputs": [
    {
     "name": "stdout",
     "output_type": "stream",
     "text": [
      "current working directory is c:\\internship_2025\\day_1\\5_file_handling\n"
     ]
    }
   ],
   "source": [
    "## checking the current working directory\n",
    "\n",
    "import os\n",
    "cwd=os.getcwd()\n",
    "print(f\"current working directory is {cwd}\")"
   ]
  },
  {
   "cell_type": "code",
   "execution_count": 3,
   "id": "680c00d1",
   "metadata": {},
   "outputs": [
    {
     "name": "stdout",
     "output_type": "stream",
     "text": [
      "new directory 'package' created\n"
     ]
    }
   ],
   "source": [
    "## creating a new directory\n",
    "\n",
    "new_dir=\"package\"\n",
    "os.mkdir(new_dir)\n",
    "print(f\"new directory '{new_dir}' created\")"
   ]
  },
  {
   "cell_type": "code",
   "execution_count": 8,
   "id": "e1c47a22",
   "metadata": {},
   "outputs": [
    {
     "name": "stdout",
     "output_type": "stream",
     "text": [
      "['1_file_operations.ipynb', '2_file_path.ipynb', 'example_file.txt', 'filehandlingquestions.ipynb', 'filehandlingsolution.ipynb', 'package', 'sample.txt', 'sample_2.txt', 'sample_3.txt']\n"
     ]
    }
   ],
   "source": [
    "## listing all files and directories on current path\n",
    "# . means current path\n",
    "\n",
    "items=os.listdir('.')\n",
    "print(items)\n"
   ]
  },
  {
   "cell_type": "code",
   "execution_count": 13,
   "id": "5ce4da2a",
   "metadata": {},
   "outputs": [
    {
     "name": "stdout",
     "output_type": "stream",
     "text": [
      "folder\\file.txt\n"
     ]
    }
   ],
   "source": [
    "## joining paths\n",
    "\n",
    "dir=\"folder\"\n",
    "path=\"file.txt\"\n",
    "file_path=os.path.join(dir,path)\n",
    "print(file_path)"
   ]
  },
  {
   "cell_type": "code",
   "execution_count": 15,
   "id": "67c7ff8e",
   "metadata": {},
   "outputs": [
    {
     "name": "stdout",
     "output_type": "stream",
     "text": [
      "c:\\internship_2025\\day_1\\5_file_handling\\folder\\file.txt\n"
     ]
    }
   ],
   "source": [
    "## getting absolute path and joining paths\n",
    "\n",
    "filepath=os.path.join(os.getcwd(),dir,path)\n",
    "print(filepath)"
   ]
  },
  {
   "cell_type": "code",
   "execution_count": null,
   "id": "8a4a770c",
   "metadata": {},
   "outputs": [
    {
     "name": "stdout",
     "output_type": "stream",
     "text": [
      "The path 'package' exists\n"
     ]
    }
   ],
   "source": [
    "## checking if a path exists\n",
    "\n",
    "path='package'\n",
    "if os.path.exists(path):\n",
    "    print(f\"The path '{path}' exists\")\n",
    "else:\n",
    "    print(\"the path does not exist\")"
   ]
  },
  {
   "cell_type": "code",
   "execution_count": 19,
   "id": "cf64a37c",
   "metadata": {},
   "outputs": [
    {
     "name": "stdout",
     "output_type": "stream",
     "text": [
      "The path 'package' is a directory\n"
     ]
    }
   ],
   "source": [
    "## checking whether a path is a file or directory\n",
    "\n",
    "path='package'\n",
    "if os.path.isfile(path):\n",
    "    print(f\"The path '{path}' is a file\")\n",
    "elif os.path.isdir(path):\n",
    "    print(f\"The path '{path}' is a directory\")\n",
    "else:\n",
    "    (f\"The path '{path}' does not exists\")\n",
    "\n"
   ]
  },
  {
   "cell_type": "code",
   "execution_count": 20,
   "id": "9393ec4f",
   "metadata": {},
   "outputs": [
    {
     "name": "stdout",
     "output_type": "stream",
     "text": [
      "c:\\internship_2025\\day_1\\5_file_handling\\package\n"
     ]
    }
   ],
   "source": [
    "## getting the absolute path\n",
    "\n",
    "path='package'\n",
    "absolute_path=os.path.abspath(path)\n",
    "print(absolute_path)"
   ]
  },
  {
   "cell_type": "code",
   "execution_count": null,
   "id": "51bc5ddb",
   "metadata": {},
   "outputs": [],
   "source": []
  }
 ],
 "metadata": {
  "kernelspec": {
   "display_name": "Python 3",
   "language": "python",
   "name": "python3"
  },
  "language_info": {
   "codemirror_mode": {
    "name": "ipython",
    "version": 3
   },
   "file_extension": ".py",
   "mimetype": "text/x-python",
   "name": "python",
   "nbconvert_exporter": "python",
   "pygments_lexer": "ipython3",
   "version": "3.12.0"
  }
 },
 "nbformat": 4,
 "nbformat_minor": 5
}
