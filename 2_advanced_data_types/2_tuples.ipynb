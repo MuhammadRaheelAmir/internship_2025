{
 "cells": [
  {
   "cell_type": "code",
   "execution_count": null,
   "id": "8cf4caf0",
   "metadata": {},
   "outputs": [
    {
     "name": "stdout",
     "output_type": "stream",
     "text": [
      "() <class 'tuple'>\n"
     ]
    }
   ],
   "source": [
    "## tuples in python\n",
    "# tuples are immutable\n",
    "# enclosed between ()\n",
    "\n",
    "tpl=()\n",
    "print(tpl,(type(tpl)))"
   ]
  },
  {
   "cell_type": "code",
   "execution_count": 24,
   "id": "ab5f4e57",
   "metadata": {},
   "outputs": [
    {
     "name": "stdout",
     "output_type": "stream",
     "text": [
      "3\n",
      "(1, 2, 3)\n"
     ]
    }
   ],
   "source": [
    "## accessing the elements and slicing\n",
    "\n",
    "tpl=1,2,3,4,5,6\n",
    "print(tpl[2])\n",
    "print(tpl[0:3])\n"
   ]
  },
  {
   "cell_type": "code",
   "execution_count": null,
   "id": "a61cc5cc",
   "metadata": {},
   "outputs": [
    {
     "name": "stdout",
     "output_type": "stream",
     "text": [
      "(1, 2, 3, 'a', 'b', 'c')\n"
     ]
    }
   ],
   "source": [
    "## operations in tuples\n",
    "\n",
    "#concatenation\n",
    "\n",
    "tpl_1=1,2,3\n",
    "tpl_2='a','b','c'\n",
    "\n",
    "sum_tuple=tpl_1 + tpl_2\n",
    "print(sum_tuple)\n"
   ]
  },
  {
   "cell_type": "code",
   "execution_count": 27,
   "id": "c20636c9",
   "metadata": {},
   "outputs": [
    {
     "data": {
      "text/plain": [
       "(1, 2, 3, 4, 5, 1, 2, 3, 4, 5)"
      ]
     },
     "execution_count": 27,
     "metadata": {},
     "output_type": "execute_result"
    }
   ],
   "source": [
    "## operations in tuple\n",
    "\n",
    "#repetition\n",
    "\n",
    "tpl_1 = (1, 2, 3, 4, 5)\n",
    "tpl_1 *2"
   ]
  },
  {
   "cell_type": "code",
   "execution_count": 30,
   "id": "a6bbbc81",
   "metadata": {},
   "outputs": [
    {
     "name": "stdout",
     "output_type": "stream",
     "text": [
      "[1, 2, 'no', 4, 5]\n"
     ]
    },
    {
     "ename": "TypeError",
     "evalue": "'tuple' object does not support item assignment",
     "output_type": "error",
     "traceback": [
      "\u001b[31m---------------------------------------------------------------------------\u001b[39m",
      "\u001b[31mTypeError\u001b[39m                                 Traceback (most recent call last)",
      "\u001b[36mCell\u001b[39m\u001b[36m \u001b[39m\u001b[32mIn[30]\u001b[39m\u001b[32m, line 8\u001b[39m\n\u001b[32m      6\u001b[39m \u001b[38;5;28mprint\u001b[39m(lst)\n\u001b[32m      7\u001b[39m tpl1=(\u001b[32m1\u001b[39m,\u001b[32m2\u001b[39m,\u001b[32m3\u001b[39m,\u001b[32m4\u001b[39m,\u001b[32m5\u001b[39m)\n\u001b[32m----> \u001b[39m\u001b[32m8\u001b[39m \u001b[43mtpl1\u001b[49m\u001b[43m[\u001b[49m\u001b[32;43m2\u001b[39;49m\u001b[43m]\u001b[49m=\u001b[33m\"\u001b[39m\u001b[33mno\u001b[39m\u001b[33m\"\u001b[39m\n\u001b[32m      9\u001b[39m \u001b[38;5;28mprint\u001b[39m(tpl1)\n",
      "\u001b[31mTypeError\u001b[39m: 'tuple' object does not support item assignment"
     ]
    }
   ],
   "source": [
    "## immutable nature\n",
    "# elements cannot be changed once assigned\n",
    "\n",
    "lst=[1,2,3,4,5]\n",
    "lst[2]=\"no\"\n",
    "print(lst)\n",
    "tpl1=(1,2,3,4,5)\n",
    "tpl1[2]=\"no\"\n",
    "print(tpl1)"
   ]
  },
  {
   "cell_type": "code",
   "execution_count": 33,
   "id": "e522a51d",
   "metadata": {},
   "outputs": [
    {
     "name": "stdout",
     "output_type": "stream",
     "text": [
      "(1, 2, 3)\n"
     ]
    }
   ],
   "source": [
    "## packing of tuple\n",
    "\n",
    "tpl=1,2,3,\n",
    "print(tpl)"
   ]
  },
  {
   "cell_type": "code",
   "execution_count": 34,
   "id": "6caa497b",
   "metadata": {},
   "outputs": [
    {
     "name": "stdout",
     "output_type": "stream",
     "text": [
      "1\n",
      "2\n",
      "3\n"
     ]
    }
   ],
   "source": [
    "## unpacking\n",
    "\n",
    "a,b,c=tpl\n",
    "print(a)\n",
    "print(b)\n",
    "print(c)"
   ]
  },
  {
   "cell_type": "code",
   "execution_count": 40,
   "id": "766e4c68",
   "metadata": {},
   "outputs": [
    {
     "name": "stdout",
     "output_type": "stream",
     "text": [
      "1\n",
      "[2, 3, 4, 5, 6, 7, 8, 9]\n",
      "10\n"
     ]
    }
   ],
   "source": [
    "## alternative method\n",
    "#for longer tuples\n",
    "\n",
    "tpl=(1,2,3,4,5,6,7,8,9,10)\n",
    "\n",
    "first,*middle,last=tpl\n",
    "print(first)\n",
    "print(middle)\n",
    "print(last)"
   ]
  },
  {
   "cell_type": "code",
   "execution_count": 46,
   "id": "e681e817",
   "metadata": {},
   "outputs": [
    {
     "name": "stdout",
     "output_type": "stream",
     "text": [
      "3\n"
     ]
    }
   ],
   "source": [
    "## nested tuples\n",
    "\n",
    "tpl=((1,2,3),(a,b,c),('yes','no'))\n",
    "print(tpl[0][2])"
   ]
  },
  {
   "cell_type": "code",
   "execution_count": 53,
   "id": "b54c95eb",
   "metadata": {},
   "outputs": [
    {
     "name": "stdout",
     "output_type": "stream",
     "text": [
      "1 2 3 \n",
      "a b c \n"
     ]
    }
   ],
   "source": [
    "## iterationg in tuples\n",
    "\n",
    "tpl=((1,2,3),(\"a\",\"b\",\"c\"))\n",
    "for i in tpl:\n",
    "    for j in i:\n",
    "        print(j,end=\" \")\n",
    "    print()"
   ]
  },
  {
   "cell_type": "code",
   "execution_count": null,
   "id": "ecfcdce4",
   "metadata": {},
   "outputs": [],
   "source": []
  }
 ],
 "metadata": {
  "kernelspec": {
   "display_name": "Python 3",
   "language": "python",
   "name": "python3"
  },
  "language_info": {
   "codemirror_mode": {
    "name": "ipython",
    "version": 3
   },
   "file_extension": ".py",
   "mimetype": "text/x-python",
   "name": "python",
   "nbconvert_exporter": "python",
   "pygments_lexer": "ipython3",
   "version": "3.12.0"
  }
 },
 "nbformat": 4,
 "nbformat_minor": 5
}
