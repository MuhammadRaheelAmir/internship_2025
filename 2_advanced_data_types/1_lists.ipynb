{
 "cells": [
  {
   "cell_type": "code",
   "execution_count": 1,
   "id": "05d7afb0",
   "metadata": {},
   "outputs": [
    {
     "name": "stdout",
     "output_type": "stream",
     "text": [
      "[]\n"
     ]
    }
   ],
   "source": [
    "## list in python\n",
    "\n",
    "lst=[]\n",
    "print(lst)"
   ]
  },
  {
   "cell_type": "code",
   "execution_count": 7,
   "id": "e0af00ea",
   "metadata": {},
   "outputs": [
    {
     "name": "stdout",
     "output_type": "stream",
     "text": [
      "['Sorry', 21, 11.3]\n"
     ]
    }
   ],
   "source": [
    "## mixed list\n",
    "\n",
    "lst=[\"Sorry\",21,11.3,]\n",
    "print(lst)"
   ]
  },
  {
   "cell_type": "code",
   "execution_count": null,
   "id": "9fe035cf",
   "metadata": {},
   "outputs": [
    {
     "name": "stdout",
     "output_type": "stream",
     "text": [
      "['AGU', 'AAA', 'GUA', 'UUC', 'ACC', 'GGG', 'UAC', 'UAG']\n"
     ]
    }
   ],
   "source": [
    "##append\n",
    "# adds an element at the end\n",
    "\n",
    "lst=[\"AGU\",\"AAA\",\"GUA\",\"UUC\",\"ACC\",\"GGG\",\"UAC\"]\n",
    "lst.append(\"UAG\")\n",
    "print(lst)"
   ]
  },
  {
   "cell_type": "code",
   "execution_count": null,
   "id": "460a9e5d",
   "metadata": {},
   "outputs": [
    {
     "name": "stdout",
     "output_type": "stream",
     "text": [
      "['AGU', 'AAA', 'GUA', 'UAA', 'UUC', 'ACC', 'GGG', 'UAC']\n"
     ]
    }
   ],
   "source": [
    "## insert\n",
    "# adds an element at a specified point\n",
    "lst=[\"AGU\",\"AAA\",\"GUA\",\"UUC\",\"ACC\",\"GGG\",\"UAC\"]\n",
    "lst.insert(3,\"UAA\")\n",
    "print(lst)"
   ]
  },
  {
   "cell_type": "code",
   "execution_count": null,
   "id": "ca41c6b2",
   "metadata": {},
   "outputs": [
    {
     "name": "stdout",
     "output_type": "stream",
     "text": [
      "['AAA', 'GUA', 'UUC', 'ACC', 'GGG', 'UAC']\n"
     ]
    }
   ],
   "source": [
    "##remove\n",
    "# removes a specified element\n",
    "lst=[\"AGU\",\"AAA\",\"GUA\",\"UUC\",\"ACC\",\"GGG\",\"UAC\"]\n",
    "lst.remove(\"AGU\")\n",
    "print(lst)"
   ]
  },
  {
   "cell_type": "code",
   "execution_count": null,
   "id": "b44eb3ef",
   "metadata": {},
   "outputs": [
    {
     "name": "stdout",
     "output_type": "stream",
     "text": [
      "['AGU', 'AAA', 'GUA', 'UAA', 'ACC', 'GGG', 'UAC']\n"
     ]
    }
   ],
   "source": [
    "## modify\n",
    "# replaces an element with given element\n",
    "lst=[\"AGU\",\"AAA\",\"GUA\",\"UUC\",\"ACC\",\"GGG\",\"UAC\"]\n",
    "lst[3]=\"UAA\"\n",
    "print(lst)"
   ]
  },
  {
   "cell_type": "code",
   "execution_count": null,
   "id": "b13d163a",
   "metadata": {},
   "outputs": [
    {
     "name": "stdout",
     "output_type": "stream",
     "text": [
      "['AAA', 'ACC', 'AGU', 'GGG', 'GUA', 'UAC', 'UUC']\n"
     ]
    }
   ],
   "source": [
    "## sort\n",
    "# arranges the list in assending order\n",
    "lst=[\"AGU\",\"AAA\",\"GUA\",\"UUC\",\"ACC\",\"GGG\",\"UAC\"]\n",
    "lst.sort()\n",
    "print(lst)"
   ]
  },
  {
   "cell_type": "code",
   "execution_count": null,
   "id": "f8aee1f0",
   "metadata": {},
   "outputs": [
    {
     "name": "stdout",
     "output_type": "stream",
     "text": [
      "['UAC', 'GGG', 'ACC', 'UUC', 'GUA', 'AAA', 'AGU']\n"
     ]
    }
   ],
   "source": [
    "## reverse\n",
    "# arranges the list in reverse order\n",
    "lst=[\"AGU\",\"AAA\",\"GUA\",\"UUC\",\"ACC\",\"GGG\",\"UAC\"]\n",
    "lst.reverse()\n",
    "print(lst)"
   ]
  },
  {
   "cell_type": "code",
   "execution_count": null,
   "id": "9831a805",
   "metadata": {},
   "outputs": [
    {
     "name": "stdout",
     "output_type": "stream",
     "text": [
      "[]\n"
     ]
    }
   ],
   "source": [
    "## clear \n",
    "# clears the list\n",
    "lst=[\"AGU\",\"AAA\",\"GUA\",\"UUC\",\"ACC\",\"GGG\",\"UAC\"]\n",
    "lst.clear()\n",
    "print(lst)"
   ]
  },
  {
   "cell_type": "code",
   "execution_count": null,
   "id": "c12fca65",
   "metadata": {},
   "outputs": [
    {
     "name": "stdout",
     "output_type": "stream",
     "text": [
      "['AGU', 'AAA', 'GUA', 'UUC', 'ACC', 'GGG']\n",
      "UAC\n"
     ]
    }
   ],
   "source": [
    "## pop\n",
    "## removes last element and returns the last element\n",
    "lst=[\"AGU\",\"AAA\",\"GUA\",\"UUC\",\"ACC\",\"GGG\",\"UAC\"]\n",
    "pop_lst=lst.pop()\n",
    "print(lst)\n",
    "print(pop_lst)"
   ]
  },
  {
   "cell_type": "code",
   "execution_count": 3,
   "id": "956e471d",
   "metadata": {},
   "outputs": [
    {
     "name": "stdout",
     "output_type": "stream",
     "text": [
      "['UUC', 'ACC', 'GGG']\n",
      "['AGU', 'AAA', 'GUA', 'UUC']\n",
      "['ACC', 'GGG', 'UAC']\n",
      "['AAA', 'ACC']\n"
     ]
    }
   ],
   "source": [
    "## slicing\n",
    "\n",
    "lst = [\"AGU\",\"AAA\",\"GUA\",\"UUC\",\"ACC\",\"GGG\",\"UAC\"]\n",
    "print(lst[3:6])\n",
    "print(lst[:4])\n",
    "print(lst[4:])\n",
    "print(lst[1::3])"
   ]
  },
  {
   "cell_type": "code",
   "execution_count": 8,
   "id": "f594ed8a",
   "metadata": {},
   "outputs": [
    {
     "name": "stdout",
     "output_type": "stream",
     "text": [
      "[0, 1, 4, 9, 16, 25, 36, 49, 64, 81]\n"
     ]
    }
   ],
   "source": [
    "## iteration in lists\n",
    "\n",
    "lst=[]\n",
    "for i in range(10):\n",
    "    lst.append(i**2)\n",
    "\n",
    "print(lst)"
   ]
  },
  {
   "cell_type": "code",
   "execution_count": null,
   "id": "bf773dc8",
   "metadata": {},
   "outputs": [
    {
     "data": {
      "text/plain": [
       "[0, 1, 4, 9, 16, 25, 36, 49, 64, 81]"
      ]
     },
     "execution_count": 10,
     "metadata": {},
     "output_type": "execute_result"
    }
   ],
   "source": [
    "##list comprehension\n",
    "\n",
    "[i**2 for i in range(10)]"
   ]
  },
  {
   "cell_type": "code",
   "execution_count": 25,
   "id": "7ef5247b",
   "metadata": {},
   "outputs": [
    {
     "name": "stdout",
     "output_type": "stream",
     "text": [
      "[0, 2, 4, 6, 8]\n"
     ]
    }
   ],
   "source": [
    "## comprehension with condition\n",
    "\n",
    "lst=[]\n",
    "\n",
    "for i in range(10):\n",
    "    if i%2==0:\n",
    "        lst.append(i)\n",
    "\n",
    "print(lst)\n",
    "\n"
   ]
  },
  {
   "cell_type": "code",
   "execution_count": 29,
   "id": "dfd7b7cb",
   "metadata": {},
   "outputs": [
    {
     "name": "stdout",
     "output_type": "stream",
     "text": [
      "[0, 2, 4, 6, 8]\n"
     ]
    }
   ],
   "source": [
    "lst=[i for i in range(10) if i%2==0]\n",
    "\n",
    "print(lst)"
   ]
  },
  {
   "cell_type": "code",
   "execution_count": 36,
   "id": "a9c1fe5d",
   "metadata": {},
   "outputs": [
    {
     "name": "stdout",
     "output_type": "stream",
     "text": [
      "[[1, 'a'], [1, 'b'], [2, 'a'], [2, 'b'], [3, 'a'], [3, 'b']]\n"
     ]
    }
   ],
   "source": [
    "## comprehension with nested lists\n",
    "\n",
    "lst1=[1,2,3,]\n",
    "lst2=['a','b']\n",
    "\n",
    "pair=[[i,j] for i in lst1 for j in lst2 ]\n",
    "print(pair)"
   ]
  },
  {
   "cell_type": "code",
   "execution_count": 43,
   "id": "3dc73837",
   "metadata": {},
   "outputs": [
    {
     "name": "stdout",
     "output_type": "stream",
     "text": [
      "[5, 6, 6]\n"
     ]
    }
   ],
   "source": [
    "## comprehension with function call\n",
    "\n",
    "lst=[\"sorry\",\"python\",\"killer\"]\n",
    "\n",
    "num=[len(i) for i in lst]\n",
    "print(num)"
   ]
  },
  {
   "cell_type": "code",
   "execution_count": null,
   "id": "f520ea17",
   "metadata": {},
   "outputs": [],
   "source": []
  }
 ],
 "metadata": {
  "kernelspec": {
   "display_name": "Python 3",
   "language": "python",
   "name": "python3"
  },
  "language_info": {
   "codemirror_mode": {
    "name": "ipython",
    "version": 3
   },
   "file_extension": ".py",
   "mimetype": "text/x-python",
   "name": "python",
   "nbconvert_exporter": "python",
   "pygments_lexer": "ipython3",
   "version": "3.12.0"
  }
 },
 "nbformat": 4,
 "nbformat_minor": 5
}
