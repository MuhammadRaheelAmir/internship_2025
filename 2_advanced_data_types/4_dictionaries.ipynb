{
 "cells": [
  {
   "cell_type": "code",
   "execution_count": 3,
   "id": "e9e80b9e",
   "metadata": {},
   "outputs": [
    {
     "name": "stdout",
     "output_type": "stream",
     "text": [
      "<class 'dict'>\n"
     ]
    }
   ],
   "source": [
    "## dictionaries in python\n",
    "# key:value pair stored in {}\n",
    "\n",
    "dict_1={}\n",
    "print(type(dict_1))"
   ]
  },
  {
   "cell_type": "code",
   "execution_count": 6,
   "id": "79276188",
   "metadata": {},
   "outputs": [
    {
     "name": "stdout",
     "output_type": "stream",
     "text": [
      "<class 'dict'>\n"
     ]
    }
   ],
   "source": [
    "# creating empty dictionary\n",
    "\n",
    "my_dict= dict()\n",
    "print(type(my_dict))"
   ]
  },
  {
   "cell_type": "code",
   "execution_count": 9,
   "id": "ccd3f9e8",
   "metadata": {},
   "outputs": [
    {
     "name": "stdout",
     "output_type": "stream",
     "text": [
      "{'name': 'Raheel', 'age': 20, 'height': 5.5}\n",
      "<class 'dict'>\n"
     ]
    }
   ],
   "source": [
    "person={\"name\":\"Raheel\",\"age\":20,\"height\":5.5}\n",
    "print(person)\n",
    "print(type(person))"
   ]
  },
  {
   "cell_type": "code",
   "execution_count": null,
   "id": "bccd09a9",
   "metadata": {},
   "outputs": [
    {
     "name": "stdout",
     "output_type": "stream",
     "text": [
      "{'name': 24, 'age': 20}\n"
     ]
    }
   ],
   "source": [
    "# key must be unique\n",
    "# no repetition in key\n",
    "# if key is repeated, the latest one will be stored\n",
    "\n",
    "a={\"name\":\"raheel\",\"age\":20,\"name\":24}\n",
    "print(a)"
   ]
  },
  {
   "cell_type": "code",
   "execution_count": 23,
   "id": "24951609",
   "metadata": {},
   "outputs": [
    {
     "name": "stdout",
     "output_type": "stream",
     "text": [
      "raheel\n",
      "21\n",
      "51\n",
      "None\n",
      "not assigned\n"
     ]
    }
   ],
   "source": [
    "## accessing the elements in dictionaries\n",
    "\n",
    "a={\"name\":\"raheel\",\"age\":21,\"score\":51}\n",
    "\n",
    "print(a[\"name\"])\n",
    "print(a[\"age\"])\n",
    "\n",
    "# using get function\n",
    "a={\"name\":\"raheel\",\"age\":21,\"score\":51}\n",
    "print(a.get(\"score\"))\n",
    "# if key is not present in dictionary then it will return None\n",
    "# we can get any response of our own choice for non-assigned key\n",
    "print(a.get(\"grade\"))\n",
    "print(a.get(\"grade\",\"not assigned\"))"
   ]
  },
  {
   "cell_type": "code",
   "execution_count": 24,
   "id": "fe88ec40",
   "metadata": {},
   "outputs": [
    {
     "name": "stdout",
     "output_type": "stream",
     "text": [
      "{'name': 'raheel', 'age': 21, 'score': 51, 'grade': 'A'}\n"
     ]
    }
   ],
   "source": [
    "# adding an element \n",
    "a={\"name\":\"raheel\",\"age\":21,\"score\":51}\n",
    "a[\"grade\"]=\"A\"\n",
    "print(a)"
   ]
  },
  {
   "cell_type": "code",
   "execution_count": 25,
   "id": "1d595aee",
   "metadata": {},
   "outputs": [
    {
     "name": "stdout",
     "output_type": "stream",
     "text": [
      "{'name': 'raheel', 'age': 21, 'score': 51}\n"
     ]
    }
   ],
   "source": [
    "# removing an element\n",
    "a={\"name\":\"raheel\",\"age\":21,\"score\":51,\"grade\":\"A\"}\n",
    "del a[\"grade\"]\n",
    "print(a)"
   ]
  },
  {
   "cell_type": "code",
   "execution_count": null,
   "id": "2ebd1ae4",
   "metadata": {},
   "outputs": [
    {
     "name": "stdout",
     "output_type": "stream",
     "text": [
      "dict_keys(['name', 'age', 'score', 'grade'])\n",
      "dict_values(['raheel', 21, 51, 'A'])\n",
      "{'name': 'raheel', 'age': 21, 'score': 51, 'grade': 'A'}\n"
     ]
    }
   ],
   "source": [
    "## functions in dictionaires\n",
    "\n",
    "# .key to  get keys\n",
    "\n",
    "a={\"name\":\"raheel\",\"age\":21,\"score\":51,\"grade\":\"A\"}\n",
    "keys=a.keys()\n",
    "print(keys)\n",
    "\n",
    "# .value to get values\n",
    "\n",
    "values=a.values()\n",
    "print(values)\n",
    "\n",
    "# .items to get key:value pairs\n",
    "\n",
    "items=a.items()\n",
    "print(a)"
   ]
  },
  {
   "cell_type": "code",
   "execution_count": null,
   "id": "d014b647",
   "metadata": {},
   "outputs": [
    {
     "name": "stdout",
     "output_type": "stream",
     "text": [
      "{'name': 'raheel', 'age': 21, 'score': 51, 'grade': 'A'}\n",
      "{'name': 'raheel', 'age': 21, 'score': 51, 'grade': 'A'}\n"
     ]
    }
   ],
   "source": [
    "# creating a copy \n",
    "\n",
    "a_copy=a\n",
    "print(a)\n",
    "print(a_copy)"
   ]
  },
  {
   "cell_type": "code",
   "execution_count": 33,
   "id": "0e0e4cea",
   "metadata": {},
   "outputs": [
    {
     "name": "stdout",
     "output_type": "stream",
     "text": [
      "{'name': 'rahi', 'age': 21, 'score': 51, 'grade': 'A'}\n",
      "{'name': 'rahi', 'age': 21, 'score': 51, 'grade': 'A'}\n"
     ]
    }
   ],
   "source": [
    "# change in orignal one creates a change in the copy\n",
    "a[\"name\"]=\"rahi\"\n",
    "print(a)\n",
    "print(a_copy)"
   ]
  },
  {
   "cell_type": "code",
   "execution_count": null,
   "id": "66dfe6df",
   "metadata": {},
   "outputs": [
    {
     "name": "stdout",
     "output_type": "stream",
     "text": [
      "{'name': 'rahi', 'age': 21, 'score': 51, 'grade': 'A'}\n",
      "{'name': 'rahi', 'age': 21, 'score': 51, 'grade': 'A'}\n"
     ]
    }
   ],
   "source": [
    "# .copy to prevent changes in the copy\n",
    "\n",
    "b_copy=a.copy()\n",
    "print(a)\n",
    "print(b_copy)"
   ]
  },
  {
   "cell_type": "code",
   "execution_count": 39,
   "id": "80a480e0",
   "metadata": {},
   "outputs": [
    {
     "name": "stdout",
     "output_type": "stream",
     "text": [
      "{'name': 'rahiiii', 'age': 21, 'score': 51, 'grade': 'A'}\n",
      "{'name': 'rahi', 'age': 21, 'score': 51, 'grade': 'A'}\n"
     ]
    }
   ],
   "source": [
    "a[\"name\"]=\"rahiiii\"\n",
    "print(a)\n",
    "print(b_copy)"
   ]
  },
  {
   "cell_type": "code",
   "execution_count": 30,
   "id": "d6c209c2",
   "metadata": {},
   "outputs": [
    {
     "name": "stdout",
     "output_type": "stream",
     "text": [
      "name\n",
      "age\n"
     ]
    }
   ],
   "source": [
    "## iterating in dictionaries\n",
    "\n",
    "# iterating over keys\n",
    "\n",
    "student={\"name\":\"raheel\",\"age\":21}\n",
    "for keys in student.keys():\n",
    "    print(keys)"
   ]
  },
  {
   "cell_type": "code",
   "execution_count": 3,
   "id": "601c7c38",
   "metadata": {},
   "outputs": [
    {
     "name": "stdout",
     "output_type": "stream",
     "text": [
      "raheel\n",
      "21\n",
      "A\n"
     ]
    }
   ],
   "source": [
    "# iterating over values\n",
    "\n",
    "student={\"name\":\"raheel\",\"age\":21,\"grade\":\"A\"}\n",
    "for values in student.values():\n",
    "    print(values)"
   ]
  },
  {
   "cell_type": "code",
   "execution_count": 4,
   "id": "e2d2528a",
   "metadata": {},
   "outputs": [
    {
     "name": "stdout",
     "output_type": "stream",
     "text": [
      "('name', 'raheel')\n",
      "('age', 21)\n",
      "('grade', 'A')\n"
     ]
    }
   ],
   "source": [
    "# iterating over key:value pair\n",
    "\n",
    "student={\"name\":\"raheel\",\"age\":21,\"grade\":\"A\"}\n",
    "for items in student.items():\n",
    "    print(items)"
   ]
  },
  {
   "cell_type": "code",
   "execution_count": 12,
   "id": "67f0a805",
   "metadata": {},
   "outputs": [
    {
     "name": "stdout",
     "output_type": "stream",
     "text": [
      "{'student_1': {'name': 'raheel', 'age': 21, 'grade': 'A'}, 'student_2': {'name': 'ali', 'age': 22, 'grade': 'B'}}\n"
     ]
    }
   ],
   "source": [
    "## nested dictionaries\n",
    "\n",
    "group={\n",
    "    \"student_1\":{\"name\":\"raheel\",\"age\":21,\"grade\":\"A\"},\n",
    "    \"student_2\":{\"name\":\"ali\",\"age\":22,\"grade\":\"B\"}\n",
    "}\n",
    "print(group)"
   ]
  },
  {
   "cell_type": "code",
   "execution_count": 11,
   "id": "d51bdc88",
   "metadata": {},
   "outputs": [
    {
     "name": "stdout",
     "output_type": "stream",
     "text": [
      "raheel\n",
      "22\n"
     ]
    }
   ],
   "source": [
    "## accessing the elements in dictionaries\n",
    "\n",
    "print(group[\"student_1\"][\"name\"])\n",
    "print(group[\"student_2\"][\"age\"])"
   ]
  },
  {
   "cell_type": "code",
   "execution_count": 18,
   "id": "2a355015",
   "metadata": {},
   "outputs": [
    {
     "name": "stdout",
     "output_type": "stream",
     "text": [
      "student_1:{'name': 'raheel', 'age': 21, 'grade': 'A'}\n",
      "name:raheel\n",
      "age:21\n",
      "grade:A\n",
      "student_2:{'name': 'ali', 'age': 22, 'grade': 'B'}\n",
      "name:ali\n",
      "age:22\n",
      "grade:B\n"
     ]
    }
   ],
   "source": [
    "## iterating over nested dictionaries\n",
    "\n",
    "group={\n",
    "    \"student_1\":{\"name\":\"raheel\",\"age\":21,\"grade\":\"A\"},\n",
    "    \"student_2\":{\"name\":\"ali\",\"age\":22,\"grade\":\"B\"}\n",
    "}\n",
    "for id,info in group.items():\n",
    "    print(f\"{id}:{info}\")\n",
    "    for keys,values in info.items():\n",
    "        print(f\"{keys}:{values}\")"
   ]
  },
  {
   "cell_type": "code",
   "execution_count": 21,
   "id": "af01fd59",
   "metadata": {},
   "outputs": [
    {
     "name": "stdout",
     "output_type": "stream",
     "text": [
      "{0: 0, 1: 1, 2: 4, 3: 9, 4: 16}\n"
     ]
    }
   ],
   "source": [
    "## comprehension in dictionaries\n",
    "\n",
    "square={x:x**2 for x in range(5)}\n",
    "print(square)"
   ]
  },
  {
   "cell_type": "code",
   "execution_count": 23,
   "id": "52f95bef",
   "metadata": {},
   "outputs": [
    {
     "name": "stdout",
     "output_type": "stream",
     "text": [
      "{0: 0, 2: 4, 4: 16, 6: 36, 8: 64}\n"
     ]
    }
   ],
   "source": [
    "## condition in comprehension in dictionaries\n",
    "\n",
    "square={x:x**2 for x in range(10) if x%2==0}\n",
    "print(square)"
   ]
  },
  {
   "cell_type": "code",
   "execution_count": 28,
   "id": "75eb873d",
   "metadata": {},
   "outputs": [
    {
     "name": "stdout",
     "output_type": "stream",
     "text": [
      "{1: 1, 2: 2, 3: 2, 4: 3, 5: 4}\n"
     ]
    }
   ],
   "source": [
    "## example\n",
    "\n",
    "# count the frequency of elements in lists\n",
    "\n",
    "numbers=[1,2,2,3,3,4,4,4,5,5,5,5]\n",
    "frequency={}\n",
    "\n",
    "for i in numbers:\n",
    "    if i in frequency:\n",
    "        frequency[i]+=1\n",
    "    else:\n",
    "        frequency[i]=1\n",
    "\n",
    "print(frequency)\n",
    "    "
   ]
  },
  {
   "cell_type": "code",
   "execution_count": 29,
   "id": "8661e318",
   "metadata": {},
   "outputs": [
    {
     "name": "stdout",
     "output_type": "stream",
     "text": [
      "{'name': 'sajid', 'age': 19}\n"
     ]
    }
   ],
   "source": [
    "## merging dictionaries\n",
    "\n",
    "student_1={\"name\":\"raheel\",\"age\":17}\n",
    "student_2={\"name\":\"sajid\",\"age\":19}\n",
    "\n",
    "merged_dict={**student_1,**student_2}\n",
    "print(merged_dict)"
   ]
  },
  {
   "cell_type": "code",
   "execution_count": null,
   "id": "e250b08b",
   "metadata": {},
   "outputs": [],
   "source": []
  }
 ],
 "metadata": {
  "kernelspec": {
   "display_name": "Python 3",
   "language": "python",
   "name": "python3"
  },
  "language_info": {
   "codemirror_mode": {
    "name": "ipython",
    "version": 3
   },
   "file_extension": ".py",
   "mimetype": "text/x-python",
   "name": "python",
   "nbconvert_exporter": "python",
   "pygments_lexer": "ipython3",
   "version": "3.12.0"
  }
 },
 "nbformat": 4,
 "nbformat_minor": 5
}
