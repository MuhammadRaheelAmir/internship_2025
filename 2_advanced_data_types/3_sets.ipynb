{
 "cells": [
  {
   "cell_type": "code",
   "execution_count": 8,
   "id": "870d1047",
   "metadata": {},
   "outputs": [
    {
     "name": "stdout",
     "output_type": "stream",
     "text": [
      "<class 'set'>\n"
     ]
    }
   ],
   "source": [
    "## sets in python\n",
    "# unordered collection of unique elements enclosed in {}\n",
    "\n",
    "st={1,2,3}\n",
    "print(type(st))\n"
   ]
  },
  {
   "cell_type": "code",
   "execution_count": null,
   "id": "abaf3bf4",
   "metadata": {},
   "outputs": [
    {
     "name": "stdout",
     "output_type": "stream",
     "text": [
      "<class 'set'>\n",
      "<class 'set'>\n"
     ]
    }
   ],
   "source": [
    "## empty set \n",
    "st=set()\n",
    "print(type(st))\n",
    "\n",
    "## type casting\n",
    "\n",
    "my_set=set ([1,2,3,4,5])\n",
    "print(type(my_set))"
   ]
  },
  {
   "cell_type": "code",
   "execution_count": 33,
   "id": "2d2122f6",
   "metadata": {},
   "outputs": [
    {
     "name": "stdout",
     "output_type": "stream",
     "text": [
      "{1, 2, 3, 4}\n"
     ]
    }
   ],
   "source": [
    "## removing duplicates\n",
    "num=(1,2,3,3,4)\n",
    "st=set(num)\n",
    "print(st)"
   ]
  },
  {
   "cell_type": "code",
   "execution_count": 36,
   "id": "05609401",
   "metadata": {},
   "outputs": [
    {
     "name": "stdout",
     "output_type": "stream",
     "text": [
      "{1, 2, 3, 4, 5}\n",
      "{1, 2, 4}\n"
     ]
    }
   ],
   "source": [
    "## add elements\n",
    "st={1,2,3,4}\n",
    "st.add(5)\n",
    "print(st)\n",
    "## remove elements\n",
    "st={1,2,3,4}\n",
    "st.remove(3)\n",
    "print(st)"
   ]
  },
  {
   "cell_type": "code",
   "execution_count": null,
   "id": "3e6f2474",
   "metadata": {},
   "outputs": [
    {
     "name": "stdout",
     "output_type": "stream",
     "text": [
      "{1, 2, 3, 4}\n"
     ]
    },
    {
     "ename": "KeyError",
     "evalue": "5",
     "output_type": "error",
     "traceback": [
      "\u001b[31m---------------------------------------------------------------------------\u001b[39m",
      "\u001b[31mKeyError\u001b[39m                                  Traceback (most recent call last)",
      "\u001b[36mCell\u001b[39m\u001b[36m \u001b[39m\u001b[32mIn[51]\u001b[39m\u001b[32m, line 11\u001b[39m\n\u001b[32m      8\u001b[39m \u001b[38;5;28mprint\u001b[39m(myset)\n\u001b[32m     10\u001b[39m myset={\u001b[32m1\u001b[39m,\u001b[32m2\u001b[39m,\u001b[32m3\u001b[39m,\u001b[32m4\u001b[39m}\n\u001b[32m---> \u001b[39m\u001b[32m11\u001b[39m \u001b[43mmyset\u001b[49m\u001b[43m.\u001b[49m\u001b[43mremove\u001b[49m\u001b[43m(\u001b[49m\u001b[32;43m5\u001b[39;49m\u001b[43m)\u001b[49m\n\u001b[32m     12\u001b[39m \u001b[38;5;28mprint\u001b[39m(myset)\n",
      "\u001b[31mKeyError\u001b[39m: 5"
     ]
    }
   ],
   "source": [
    "## remove vs discard\n",
    "# remove shows error if the element is absent\n",
    "# discard executes the even the element is absent\n",
    "\n",
    "myset={1,2,3,4}\n",
    "myset.discard(5)\n",
    "print(myset)\n",
    "\n",
    "myset={1,2,3,4}\n",
    "myset.remove(5)\n",
    "print(myset)"
   ]
  },
  {
   "cell_type": "code",
   "execution_count": 54,
   "id": "fad42f65",
   "metadata": {},
   "outputs": [
    {
     "name": "stdout",
     "output_type": "stream",
     "text": [
      "1\n",
      "{2, 3}\n"
     ]
    }
   ],
   "source": [
    "##pop in sets\n",
    "# removes and brings the first element\n",
    "\n",
    "st={1,2,3}\n",
    "pop_st=st.pop()\n",
    "print(pop_st)\n",
    "print(st)"
   ]
  },
  {
   "cell_type": "code",
   "execution_count": 56,
   "id": "a713d6d9",
   "metadata": {},
   "outputs": [
    {
     "name": "stdout",
     "output_type": "stream",
     "text": [
      "True\n",
      "False\n"
     ]
    }
   ],
   "source": [
    "## set membership\n",
    "\n",
    "st={1,2,3,4}\n",
    "print(1 in st)\n",
    "print(5 in st)"
   ]
  },
  {
   "cell_type": "code",
   "execution_count": 61,
   "id": "3a6f2e3f",
   "metadata": {},
   "outputs": [
    {
     "name": "stdout",
     "output_type": "stream",
     "text": [
      "{1, 2, 3, 4, 5}\n",
      "{3}\n",
      "{4, 5}\n"
     ]
    }
   ],
   "source": [
    "## operations in sets\n",
    "# union \n",
    "# brings all unique elements from both sets together\n",
    "\n",
    "st_1={1,2,3}\n",
    "st_2={3,4,5}\n",
    "print(st_1.union(st_2))\n",
    "\n",
    "#intersection\n",
    "# brings the common elements from both sets together\n",
    "st_1={1,2,3}\n",
    "st_2={3,4,5}\n",
    "print(st_1.intersection(st_2))\n",
    "\n",
    "# intersection_update\n",
    "# updates the set by bringing common elements in first set\n",
    "\n",
    "st_1={1,2,3,4,5}\n",
    "st_2={4,5,6,7,8}\n",
    "\n",
    "st_1.intersection_update(st_2)\n",
    "print(st_1)\n",
    "\n"
   ]
  },
  {
   "cell_type": "code",
   "execution_count": null,
   "id": "328dcdd3",
   "metadata": {},
   "outputs": [
    {
     "data": {
      "text/plain": [
       "True"
      ]
     },
     "execution_count": 64,
     "metadata": {},
     "output_type": "execute_result"
    }
   ],
   "source": [
    "#subset \n",
    "st_1={1,2,3,4}\n",
    "st_2={3,4,}\n",
    "st_2.issubset(st_1)\n",
    "\n",
    "\n",
    "\n"
   ]
  },
  {
   "cell_type": "code",
   "execution_count": null,
   "id": "9171709f",
   "metadata": {},
   "outputs": [
    {
     "data": {
      "text/plain": [
       "True"
      ]
     },
     "execution_count": 65,
     "metadata": {},
     "output_type": "execute_result"
    }
   ],
   "source": [
    "#superset\n",
    "st_1={1,2,3,4}\n",
    "st_2=[3,4]\n",
    "st_1.issuperset(st_2)\n",
    "\n"
   ]
  },
  {
   "cell_type": "code",
   "execution_count": null,
   "id": "6f52ae4f",
   "metadata": {},
   "outputs": [
    {
     "data": {
      "text/plain": [
       "{1, 2}"
      ]
     },
     "execution_count": 66,
     "metadata": {},
     "output_type": "execute_result"
    }
   ],
   "source": [
    "# diffference\n",
    "# brings the elements from first set after difference\n",
    "\n",
    "st_1={1,2,3,4,5}\n",
    "st_2={3,4,5,6}\n",
    "st_1.difference(st_2)"
   ]
  },
  {
   "cell_type": "code",
   "execution_count": 67,
   "id": "c262e7b5",
   "metadata": {},
   "outputs": [
    {
     "data": {
      "text/plain": [
       "{1, 2, 6, 7}"
      ]
     },
     "execution_count": 67,
     "metadata": {},
     "output_type": "execute_result"
    }
   ],
   "source": [
    "# symmetric difference\n",
    "# brings elements from both sets after difference\n",
    "st_1={1,2,3,4,5}\n",
    "st_2={3,4,5,6,7}\n",
    "st_1.symmetric_difference(st_2)"
   ]
  },
  {
   "cell_type": "code",
   "execution_count": 70,
   "id": "d8124279",
   "metadata": {},
   "outputs": [
    {
     "name": "stdout",
     "output_type": "stream",
     "text": [
      "5 {'it', 'gonna', 'are', 'you', 'make'}\n"
     ]
    }
   ],
   "source": [
    "# counting unique words\n",
    "\n",
    "st_1=\"you are gonna make it\"\n",
    "st_2=st_1.split()\n",
    "st_3=set(st_2)\n",
    "print(len(st_3),st_3)"
   ]
  },
  {
   "cell_type": "code",
   "execution_count": null,
   "id": "559f587e",
   "metadata": {},
   "outputs": [],
   "source": []
  }
 ],
 "metadata": {
  "kernelspec": {
   "display_name": "Python 3",
   "language": "python",
   "name": "python3"
  },
  "language_info": {
   "codemirror_mode": {
    "name": "ipython",
    "version": 3
   },
   "file_extension": ".py",
   "mimetype": "text/x-python",
   "name": "python",
   "nbconvert_exporter": "python",
   "pygments_lexer": "ipython3",
   "version": "3.12.0"
  }
 },
 "nbformat": 4,
 "nbformat_minor": 5
}
