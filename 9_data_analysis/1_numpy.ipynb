{
 "cells": [
  {
   "cell_type": "markdown",
   "id": "b2556698",
   "metadata": {},
   "source": [
    "## Numpy\n",
    "# Used for scientific computing\n",
    "# provides support for arrays and matrices\n",
    "# comes with a large collection of functions"
   ]
  },
  {
   "cell_type": "code",
   "execution_count": 27,
   "id": "a02666b0",
   "metadata": {},
   "outputs": [],
   "source": [
    "import numpy as np"
   ]
  },
  {
   "cell_type": "code",
   "execution_count": 2,
   "id": "12b52040",
   "metadata": {},
   "outputs": [
    {
     "name": "stdout",
     "output_type": "stream",
     "text": [
      "[0 1 2 3 4]\n",
      "<class 'numpy.ndarray'>\n"
     ]
    },
    {
     "data": {
      "text/plain": [
       "(5,)"
      ]
     },
     "execution_count": 2,
     "metadata": {},
     "output_type": "execute_result"
    }
   ],
   "source": [
    "## 1d array\n",
    "\n",
    "array=np.array([0,1,2,3,4])\n",
    "print(array)\n",
    "print(type(array))\n",
    "array.shape"
   ]
  },
  {
   "cell_type": "code",
   "execution_count": 3,
   "id": "06b21ad5",
   "metadata": {},
   "outputs": [
    {
     "name": "stdout",
     "output_type": "stream",
     "text": [
      "[[0 1 2 3 4]\n",
      " [5 6 7 8 9]]\n",
      "<class 'numpy.ndarray'>\n"
     ]
    },
    {
     "data": {
      "text/plain": [
       "(2, 5)"
      ]
     },
     "execution_count": 3,
     "metadata": {},
     "output_type": "execute_result"
    }
   ],
   "source": [
    "##2d array\n",
    "\n",
    "array1=np.array([[0,1,2,3,4],[5,6,7,8,9]])\n",
    "print(array1)\n",
    "print(type(array1))\n",
    "array1.shape"
   ]
  },
  {
   "cell_type": "code",
   "execution_count": 4,
   "id": "c070d8c9",
   "metadata": {},
   "outputs": [
    {
     "data": {
      "text/plain": [
       "array([[0],\n",
       "       [3],\n",
       "       [6],\n",
       "       [9]])"
      ]
     },
     "execution_count": 4,
     "metadata": {},
     "output_type": "execute_result"
    }
   ],
   "source": [
    "## Reshaping the array\n",
    "np.arange(0,10,3).reshape(4,1)"
   ]
  },
  {
   "cell_type": "code",
   "execution_count": 5,
   "id": "f844f575",
   "metadata": {},
   "outputs": [
    {
     "data": {
      "text/plain": [
       "array([[1., 1., 1.],\n",
       "       [1., 1., 1.]])"
      ]
     },
     "execution_count": 5,
     "metadata": {},
     "output_type": "execute_result"
    }
   ],
   "source": [
    "## Getting all elements as unity\n",
    "np.ones((2,3)) # important in deep learning"
   ]
  },
  {
   "cell_type": "code",
   "execution_count": 6,
   "id": "051ff839",
   "metadata": {},
   "outputs": [
    {
     "data": {
      "text/plain": [
       "array([[1., 0., 0., 0.],\n",
       "       [0., 1., 0., 0.],\n",
       "       [0., 0., 1., 0.],\n",
       "       [0., 0., 0., 1.]])"
      ]
     },
     "execution_count": 6,
     "metadata": {},
     "output_type": "execute_result"
    }
   ],
   "source": [
    "## Getting an identity matrix\n",
    "np.eye(4)"
   ]
  },
  {
   "cell_type": "code",
   "execution_count": 7,
   "id": "cecdcc0d",
   "metadata": {},
   "outputs": [
    {
     "name": "stdout",
     "output_type": "stream",
     "text": [
      "Array:\n",
      " [[0 1 2 3 4]\n",
      " [5 6 7 8 9]]\n",
      "Dimensions; 2\n",
      "Shape: (2, 5)\n",
      "Size(no. of elements): 10\n",
      "Datatype: int64\n",
      "Size of item: 8\n"
     ]
    }
   ],
   "source": [
    "## Attributes of Numpy array\n",
    "\n",
    "array2=np.array([[0,1,2,3,4],[5,6,7,8,9]])\n",
    "\n",
    "print(\"Array:\\n\",array2) # prints array\n",
    "print(\"Dimensions;\", array2.ndim) # prints dimensions\n",
    "print(\"Shape:\", array2.shape) # prints shape\n",
    "print(\"Size(no. of elements):\", array2.size) # prints the number of elements\n",
    "print(\"Datatype:\",array2.dtype) # prints int64 ( different for each platform) \n",
    "print(\"Size of item:\", array.itemsize) # prints the size of item"
   ]
  },
  {
   "cell_type": "code",
   "execution_count": 8,
   "id": "2f313144",
   "metadata": {},
   "outputs": [
    {
     "name": "stdout",
     "output_type": "stream",
     "text": [
      "Addition: [11 22 33 44 55]\n",
      "Subtraction: [ -9 -18 -27 -36 -45]\n",
      "Multiplication: [ 10  40  90 160 250]\n",
      "Division: [0.1 0.1 0.1 0.1 0.1]\n"
     ]
    }
   ],
   "source": [
    "## Numpy vectorized operation\n",
    "\n",
    "array_1=np.array([1,2,3,4,5])\n",
    "array_2=np.array([10,20,30,40,50])\n",
    "\n",
    "## Addition\n",
    "print(\"Addition:\",array_1 + array_2)\n",
    "## Subtraction\n",
    "print(\"Subtraction:\",array_1 - array_2)\n",
    "## Multiplication\n",
    "print(\"Multiplication:\",array_1 * array_2)\n",
    "## Division\n",
    "print(\"Division:\",array_1 / array_2)"
   ]
  },
  {
   "cell_type": "code",
   "execution_count": 9,
   "id": "cfaf5c33",
   "metadata": {},
   "outputs": [
    {
     "name": "stdout",
     "output_type": "stream",
     "text": [
      "Square root: [1.         1.41421356 1.73205081 2.         2.23606798]\n",
      "Exponential: [  2.71828183   7.3890561   20.08553692  54.59815003 148.4131591 ]\n",
      "Sine: [ 0.84147098  0.90929743  0.14112001 -0.7568025  -0.95892427]\n",
      "Natural log: [0.         0.69314718 1.09861229 1.38629436 1.60943791]\n"
     ]
    }
   ],
   "source": [
    "## Universal Functions\n",
    "\n",
    "array_3=np.array([1,2,3,4,5])\n",
    "\n",
    "## Square root\n",
    "print(\"Square root:\", np.sqrt(array_3))\n",
    "## Exponential\n",
    "print(\"Exponential:\",np.exp(array_3))\n",
    "## Sine\n",
    "print(\"Sine:\",np.sin(array_3))\n",
    "## Natural log\n",
    "print(\"Natural log:\",np.log(array_3))\n"
   ]
  },
  {
   "cell_type": "code",
   "execution_count": 10,
   "id": "c5ead66a",
   "metadata": {},
   "outputs": [
    {
     "name": "stdout",
     "output_type": "stream",
     "text": [
      "Array:\n",
      " [[ 1  2  3  4]\n",
      " [ 5  6  7  8]\n",
      " [ 9 10 11 12]]\n"
     ]
    }
   ],
   "source": [
    "## Array Slicing and Indexing\n",
    "Array=np.array([[1,2,3,4],[5,6,7,8],[9,10,11,12]])\n",
    "\n",
    "print(\"Array:\\n\",Array)"
   ]
  },
  {
   "cell_type": "code",
   "execution_count": 11,
   "id": "6ffbb92c",
   "metadata": {},
   "outputs": [
    {
     "name": "stdout",
     "output_type": "stream",
     "text": [
      "[5 6 7 8]\n",
      "7\n",
      "[[ 6  7]\n",
      " [10 11]]\n"
     ]
    }
   ],
   "source": [
    "print(Array[1])\n",
    "print(Array[1][2])\n",
    "\n",
    "print(Array[1:,1:3])"
   ]
  },
  {
   "cell_type": "code",
   "execution_count": 12,
   "id": "aada56a9",
   "metadata": {},
   "outputs": [
    {
     "name": "stdout",
     "output_type": "stream",
     "text": [
      "Array:\n",
      " [[ 1  2  3  4]\n",
      " [ 5  6  7  8]\n",
      " [ 9 10 11 12]]\n"
     ]
    }
   ],
   "source": [
    "## Modify Array elements\n",
    "\n",
    "print(\"Array:\\n\", Array)"
   ]
  },
  {
   "cell_type": "code",
   "execution_count": 13,
   "id": "46d4f97f",
   "metadata": {},
   "outputs": [
    {
     "name": "stdout",
     "output_type": "stream",
     "text": [
      "[[ 1  2 30  4]\n",
      " [ 5  6  7  8]\n",
      " [ 9 10 11 12]]\n"
     ]
    }
   ],
   "source": [
    "Array[0][2]=30\n",
    "print(Array)"
   ]
  },
  {
   "cell_type": "code",
   "execution_count": 14,
   "id": "8c8b9191",
   "metadata": {},
   "outputs": [
    {
     "name": "stdout",
     "output_type": "stream",
     "text": [
      "[[ 1  2 30  4]\n",
      " [20 20 20 20]\n",
      " [20 20 20 20]]\n"
     ]
    }
   ],
   "source": [
    "Array[1:]=20\n",
    "print(Array)"
   ]
  },
  {
   "cell_type": "code",
   "execution_count": 9,
   "id": "b0b23bec",
   "metadata": {},
   "outputs": [
    {
     "name": "stdout",
     "output_type": "stream",
     "text": [
      "Mean: 3.5\n",
      "Medain: 3.5\n",
      "Standard Deviation: 1.707825127659933\n",
      "Variance: 2.9166666666666665\n"
     ]
    }
   ],
   "source": [
    "## Statistical concepts\n",
    "data_1=np.array([1,2,3,4,5,6])\n",
    "## Mean\n",
    "mean=np.mean(data_1)\n",
    "print(\"Mean:\", mean)\n",
    "## Median\n",
    "median=np.median(data_1)\n",
    "print(\"Medain:\",median)\n",
    "## Standard Deviation\n",
    "std_dev=np.std(data_1)\n",
    "print(\"Standard Deviation:\", std_dev)\n",
    "## Variance\n",
    "variance=np.var(data_1)\n",
    "print(\"Variance:\",variance)"
   ]
  },
  {
   "cell_type": "code",
   "execution_count": null,
   "id": "3bac49eb",
   "metadata": {},
   "outputs": [
    {
     "name": "stdout",
     "output_type": "stream",
     "text": [
      "Normalized_data:\n",
      " [-1.52752523 -1.09108945 -0.65465367 -0.21821789  0.21821789  0.65465367\n",
      "  1.09108945  1.52752523]\n"
     ]
    }
   ],
   "source": [
    "## Statistical concepts\n",
    "## Normalization\n",
    "## To have a mean of 0 and standard deviation of 1\n",
    "\n",
    "data=([1,2,3,4,5,6,7,8])\n",
    "mean=np.mean(data)\n",
    "std_dev=np.std(data)\n",
    "## Nomralization\n",
    "Normalized_data=(data-mean)/std_dev\n",
    "print(\"Normalized_data:\\n\", Normalized_data)"
   ]
  },
  {
   "cell_type": "code",
   "execution_count": 26,
   "id": "3a8c22cc",
   "metadata": {},
   "outputs": [
    {
     "data": {
      "text/plain": [
       "array([2, 3, 4, 5, 6, 7, 8])"
      ]
     },
     "execution_count": 26,
     "metadata": {},
     "output_type": "execute_result"
    }
   ],
   "source": [
    "## Logcical Operations\n",
    "data=np.array([1,2,3,4,5,6,7,8])\n",
    "\n",
    "data[(data>=2) & (data<=8)]\n"
   ]
  },
  {
   "cell_type": "code",
   "execution_count": 18,
   "id": "5863a4ce",
   "metadata": {},
   "outputs": [
    {
     "name": "stdout",
     "output_type": "stream",
     "text": [
      "1 is odd\n",
      "2 is even\n",
      "3 is odd\n",
      "4 is even\n",
      "5 is odd\n",
      "6 is even\n"
     ]
    }
   ],
   "source": [
    "data=([1,2,3,4,5,6])\n",
    "for i in data:\n",
    "    if i % 2==0:\n",
    "        print (i,\"is even\")\n",
    "    else :\n",
    "        print(i,\"is odd\")"
   ]
  }
 ],
 "metadata": {
  "kernelspec": {
   "display_name": "Python 3",
   "language": "python",
   "name": "python3"
  },
  "language_info": {
   "codemirror_mode": {
    "name": "ipython",
    "version": 3
   },
   "file_extension": ".py",
   "mimetype": "text/x-python",
   "name": "python",
   "nbconvert_exporter": "python",
   "pygments_lexer": "ipython3",
   "version": "3.12.0"
  }
 },
 "nbformat": 4,
 "nbformat_minor": 5
}
