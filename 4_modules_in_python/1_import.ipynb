{
 "cells": [
  {
   "cell_type": "markdown",
   "id": "087e3611",
   "metadata": {},
   "source": [
    "## modeules and packages in python\n",
    "\n",
    "# importing \n"
   ]
  },
  {
   "cell_type": "code",
   "execution_count": null,
   "id": "967d258a",
   "metadata": {},
   "outputs": [
    {
     "data": {
      "text/plain": [
       "8.0"
      ]
     },
     "execution_count": 3,
     "metadata": {},
     "output_type": "execute_result"
    }
   ],
   "source": [
    "## importing a function\n",
    "import math \n",
    "math.sqrt(64)"
   ]
  },
  {
   "cell_type": "code",
   "execution_count": null,
   "id": "645afb80",
   "metadata": {},
   "outputs": [
    {
     "name": "stdout",
     "output_type": "stream",
     "text": [
      "5.0\n",
      "3.141592653589793\n"
     ]
    }
   ],
   "source": [
    "## alternative\n",
    "from math import sqrt,pi\n",
    "print(sqrt(25))\n",
    "print(pi)"
   ]
  },
  {
   "cell_type": "code",
   "execution_count": 9,
   "id": "e44fe077",
   "metadata": {},
   "outputs": [],
   "source": [
    "## importing all functions inside\n",
    "from math import*"
   ]
  },
  {
   "cell_type": "code",
   "execution_count": 18,
   "id": "b97da1fb",
   "metadata": {},
   "outputs": [],
   "source": [
    "import numpy as np"
   ]
  },
  {
   "cell_type": "markdown",
   "id": "0a3dafb4",
   "metadata": {},
   "source": [
    "## creating a pakage \n",
    "\n",
    "# __init__.py  \"this file is used to create a package'\n",
    "# it is placed in the folder where your package will be saved"
   ]
  },
  {
   "cell_type": "code",
   "execution_count": 1,
   "id": "bc162727",
   "metadata": {},
   "outputs": [
    {
     "data": {
      "text/plain": [
       "18"
      ]
     },
     "execution_count": 1,
     "metadata": {},
     "output_type": "execute_result"
    }
   ],
   "source": [
    "from packages import my_package\n",
    "my_package.multiplication(9,2)\n"
   ]
  },
  {
   "cell_type": "code",
   "execution_count": null,
   "id": "1a2c1d07",
   "metadata": {},
   "outputs": [],
   "source": []
  }
 ],
 "metadata": {
  "kernelspec": {
   "display_name": "Python 3",
   "language": "python",
   "name": "python3"
  },
  "language_info": {
   "codemirror_mode": {
    "name": "ipython",
    "version": 3
   },
   "file_extension": ".py",
   "mimetype": "text/x-python",
   "name": "python",
   "nbconvert_exporter": "python",
   "pygments_lexer": "ipython3",
   "version": "3.12.0"
  }
 },
 "nbformat": 4,
 "nbformat_minor": 5
}
