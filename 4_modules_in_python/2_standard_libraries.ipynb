{
 "cells": [
  {
   "cell_type": "markdown",
   "id": "7008347c",
   "metadata": {},
   "source": [
    "## standard libraries in Python\n",
    "\n",
    "# vaste collection of modules and packages"
   ]
  },
  {
   "cell_type": "code",
   "execution_count": 4,
   "id": "4a998e1c",
   "metadata": {},
   "outputs": [
    {
     "name": "stdout",
     "output_type": "stream",
     "text": [
      "array('i', [1, 2, 3, 4])\n"
     ]
    }
   ],
   "source": [
    "import array\n",
    "arr=array.array('i',[1,2,3,4])\n",
    "print(arr)"
   ]
  },
  {
   "cell_type": "code",
   "execution_count": 5,
   "id": "1aad2f44",
   "metadata": {},
   "outputs": [
    {
     "name": "stdout",
     "output_type": "stream",
     "text": [
      "6.0\n"
     ]
    }
   ],
   "source": [
    "import math\n",
    "print(math.sqrt(36))"
   ]
  },
  {
   "cell_type": "code",
   "execution_count": 11,
   "id": "9c0e1ce2",
   "metadata": {},
   "outputs": [
    {
     "name": "stdout",
     "output_type": "stream",
     "text": [
      "5\n",
      "blue\n"
     ]
    }
   ],
   "source": [
    "import random\n",
    "print(random.randint(1,6))\n",
    "print(random.choice([\"yellow\",\"green\",\"blue\"]))"
   ]
  },
  {
   "cell_type": "code",
   "execution_count": 14,
   "id": "0dc61074",
   "metadata": {},
   "outputs": [
    {
     "name": "stdout",
     "output_type": "stream",
     "text": [
      "c:\\internship_2025\n"
     ]
    }
   ],
   "source": [
    "## file and directory access\n",
    "\n",
    "import os\n",
    "print(os.getcwd())"
   ]
  },
  {
   "cell_type": "code",
   "execution_count": 15,
   "id": "46cbb9ae",
   "metadata": {},
   "outputs": [],
   "source": [
    "os.mkdir('test2_dir')"
   ]
  },
  {
   "cell_type": "code",
   "execution_count": 16,
   "id": "d0d08e9e",
   "metadata": {},
   "outputs": [
    {
     "data": {
      "text/plain": [
       "'outcome.txt'"
      ]
     },
     "execution_count": 16,
     "metadata": {},
     "output_type": "execute_result"
    }
   ],
   "source": [
    "## high level operations on file and collection of files\n",
    "\n",
    "import shutil\n",
    "shutil.copyfile('requirements.txt','outcome.txt')"
   ]
  },
  {
   "cell_type": "code",
   "execution_count": 19,
   "id": "5a6dcf5b",
   "metadata": {},
   "outputs": [
    {
     "name": "stdout",
     "output_type": "stream",
     "text": [
      "{\"name\": \"Raheel\", \"age\": 21} <class 'str'>\n"
     ]
    }
   ],
   "source": [
    "## data serialization\n",
    "\n",
    "# dictionaries  to string conversion\n",
    "\n",
    "import json\n",
    "data={\"name\":\"Raheel\",\"age\":21}\n",
    "json_str=json.dumps(data)\n",
    "print(json_str,type(json_str))\n",
    "\n"
   ]
  },
  {
   "cell_type": "code",
   "execution_count": 20,
   "id": "27e4a04e",
   "metadata": {},
   "outputs": [
    {
     "name": "stdout",
     "output_type": "stream",
     "text": [
      "{'name': 'Raheel', 'age': 21} <class 'dict'>\n"
     ]
    }
   ],
   "source": [
    "## string to dictionaries conversion\n",
    "\n",
    "json_dct=json.loads(json_str)\n",
    "print(json_dct,type(json_dct))"
   ]
  },
  {
   "cell_type": "code",
   "execution_count": null,
   "id": "4e3da062",
   "metadata": {},
   "outputs": [],
   "source": [
    "## csv \n",
    "# comma separated values\n",
    "\n",
    "# writing to a file\n",
    "import csv\n",
    "with open('example.txt',mode='w',newline='') as file:\n",
    "    writer=csv.writer(file)\n",
    "    writer.writerow([\"name\",\"age\"])\n",
    "    writer.writerow([\"Raheel\",21])\n",
    "\n"
   ]
  },
  {
   "cell_type": "code",
   "execution_count": 25,
   "id": "dff9bf3d",
   "metadata": {},
   "outputs": [
    {
     "name": "stdout",
     "output_type": "stream",
     "text": [
      "['name', 'age']\n",
      "['Raheel', '21']\n"
     ]
    }
   ],
   "source": [
    "## reading a file\n",
    "with open('example.txt',mode='r') as file:\n",
    "    reader=csv.reader(file)\n",
    "    for read in reader:\n",
    "        print (read)"
   ]
  },
  {
   "cell_type": "code",
   "execution_count": 49,
   "id": "94e9d6f6",
   "metadata": {},
   "outputs": [
    {
     "name": "stdout",
     "output_type": "stream",
     "text": [
      "2025-07-09 09:48:07.574822\n",
      "2025-07-08 09:48:07.574822\n"
     ]
    }
   ],
   "source": [
    "## datetime \n",
    "\n",
    "from datetime import datetime,timedelta\n",
    "\n",
    "now=datetime.now()\n",
    "print(now)\n",
    "yesterday=now-timedelta(days=1)\n",
    "print(yesterday)"
   ]
  },
  {
   "cell_type": "code",
   "execution_count": 43,
   "id": "8950edaa",
   "metadata": {},
   "outputs": [
    {
     "name": "stdout",
     "output_type": "stream",
     "text": [
      "1752036008.7600343\n",
      "1752036010.7615614\n"
     ]
    }
   ],
   "source": [
    "## time\n",
    "\n",
    "import time\n",
    "\n",
    "print(time.time()) # present time\n",
    "\n",
    "time.sleep(2) # makes a delay of desired time period\n",
    "print(time.time())\n",
    "\n"
   ]
  },
  {
   "cell_type": "code",
   "execution_count": 48,
   "id": "5f733e6f",
   "metadata": {},
   "outputs": [
    {
     "name": "stdout",
     "output_type": "stream",
     "text": [
      "AATGCA\n"
     ]
    }
   ],
   "source": [
    "## regular expression\n",
    "\n",
    "import re\n",
    "\n",
    "pattern='AATGCA'\n",
    "sequence='ATGGCAATGCACGTAGAATGCA'\n",
    "\n",
    "match=re.search(pattern,sequence)\n",
    "print(match.group())\n"
   ]
  },
  {
   "cell_type": "code",
   "execution_count": null,
   "id": "b60a1e56",
   "metadata": {},
   "outputs": [],
   "source": []
  }
 ],
 "metadata": {
  "kernelspec": {
   "display_name": "Python 3",
   "language": "python",
   "name": "python3"
  },
  "language_info": {
   "codemirror_mode": {
    "name": "ipython",
    "version": 3
   },
   "file_extension": ".py",
   "mimetype": "text/x-python",
   "name": "python",
   "nbconvert_exporter": "python",
   "pygments_lexer": "ipython3",
   "version": "3.12.0"
  }
 },
 "nbformat": 4,
 "nbformat_minor": 5
}
