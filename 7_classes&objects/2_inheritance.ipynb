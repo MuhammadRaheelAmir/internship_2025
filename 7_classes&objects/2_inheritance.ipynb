{
 "cells": [
  {
   "cell_type": "markdown",
   "id": "4ab0975f",
   "metadata": {},
   "source": [
    "## inheritance allows a class to inherit attributes adn methods from another class"
   ]
  },
  {
   "cell_type": "code",
   "execution_count": 7,
   "id": "32f11abf",
   "metadata": {},
   "outputs": [],
   "source": [
    "class car:\n",
    "    def __init__(self,windows,color,enginetype):\n",
    "        self.windows = windows\n",
    "        self.color = color\n",
    "        self.enginetype = enginetype\n",
    "\n",
    "    def drive(self):\n",
    "        print(f\"The person will drive {self.enginetype}engine car\")"
   ]
  },
  {
   "cell_type": "code",
   "execution_count": 8,
   "id": "ebdafdaf",
   "metadata": {},
   "outputs": [
    {
     "name": "stdout",
     "output_type": "stream",
     "text": [
      "The person will drive dieselengine car\n"
     ]
    }
   ],
   "source": [
    "car1=car(4,'black','diesel')\n",
    "car1.drive()"
   ]
  },
  {
   "cell_type": "code",
   "execution_count": 31,
   "id": "ee2064f9",
   "metadata": {},
   "outputs": [],
   "source": [
    "## single inheritance\n",
    "\n",
    "class tesla(car):\n",
    "    def __init__(self,windows,color,enginetype,autodrive):\n",
    "        super().__init__(windows,color,enginetype)\n",
    "        self.autodrive = autodrive\n",
    "\n",
    "    def selfdrive(self):\n",
    "        print(f\"The car supports selfdrive: {self.autodrive}\")\n",
    "\n"
   ]
  },
  {
   "cell_type": "code",
   "execution_count": 32,
   "id": "056e04cf",
   "metadata": {},
   "outputs": [
    {
     "name": "stdout",
     "output_type": "stream",
     "text": [
      "The car supports selfdrive: TRUE\n",
      "The person will drive electricengine car\n"
     ]
    }
   ],
   "source": [
    "tesla1=tesla(4,'white','electric','TRUE')\n",
    "tesla1.selfdrive()\n",
    "tesla1.drive() # inherited attribute"
   ]
  },
  {
   "cell_type": "code",
   "execution_count": 51,
   "id": "a8fde65a",
   "metadata": {},
   "outputs": [],
   "source": [
    "## Inheritance from multiple classes\n",
    "\n",
    "# class_1\n",
    "class animal:\n",
    "    def __init__(self,name):\n",
    "        self.name=name\n",
    "    def speak():\n",
    "        print(\"this is a method\")\n",
    "\n",
    "# class_2\n",
    "class pet:\n",
    "    def __init__(self,owner):\n",
    "        self.owner=owner\n",
    "\n",
    "# derived class\n",
    "\n",
    "class dog(animal,pet):\n",
    "     def __init__(self,name,owner):\n",
    "        animal.__init__(self,name)\n",
    "        pet.__init__(self,owner)\n",
    "\n",
    "     def speak(self):\n",
    "        print(f\"{self.name} says woof\")\n",
    "\n"
   ]
  },
  {
   "cell_type": "code",
   "execution_count": 53,
   "id": "7e9e80d6",
   "metadata": {},
   "outputs": [
    {
     "name": "stdout",
     "output_type": "stream",
     "text": [
      "tommy says woof\n",
      "owner is hashim\n"
     ]
    }
   ],
   "source": [
    "Dog=dog('tommy','hashim')\n",
    "Dog.speak()\n",
    "print(f\"owner is {Dog.owner}\")"
   ]
  },
  {
   "cell_type": "code",
   "execution_count": null,
   "id": "1fc43af8",
   "metadata": {},
   "outputs": [],
   "source": []
  }
 ],
 "metadata": {
  "kernelspec": {
   "display_name": "Python 3",
   "language": "python",
   "name": "python3"
  },
  "language_info": {
   "codemirror_mode": {
    "name": "ipython",
    "version": 3
   },
   "file_extension": ".py",
   "mimetype": "text/x-python",
   "name": "python",
   "nbconvert_exporter": "python",
   "pygments_lexer": "ipython3",
   "version": "3.12.0"
  }
 },
 "nbformat": 4,
 "nbformat_minor": 5
}
