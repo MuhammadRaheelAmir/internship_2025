{
 "cells": [
  {
   "cell_type": "markdown",
   "id": "5cebd313",
   "metadata": {},
   "source": [
    "## custom exception\n",
    "## user-defined class from Exception\n",
    "## contains application specific errors that are not covereed in standard Exception"
   ]
  },
  {
   "cell_type": "code",
   "execution_count": 9,
   "id": "81d92d1d",
   "metadata": {},
   "outputs": [
    {
     "name": "stdout",
     "output_type": "stream",
     "text": [
      "2013\n"
     ]
    }
   ],
   "source": [
    "class Error(Exception):\n",
    "    pass\n",
    "class Age(Error):\n",
    "    pass\n"
   ]
  },
  {
   "cell_type": "code",
   "execution_count": 23,
   "id": "a17b31db",
   "metadata": {},
   "outputs": [
    {
     "name": "stdout",
     "output_type": "stream",
     "text": [
      "22\n",
      "you are eligible\n"
     ]
    }
   ],
   "source": [
    "year=int(input(\"enter your age\"))\n",
    "age=2025-year\n",
    "print(age)\n",
    "try:\n",
    "    if age>18 and age<30:\n",
    "        print('you are eligible')\n",
    "    else :\n",
    "        raise AgeError\n",
    "except:\n",
    "    print('you are not eligible')\n"
   ]
  },
  {
   "cell_type": "code",
   "execution_count": 42,
   "id": "af012d0f",
   "metadata": {},
   "outputs": [
    {
     "name": "stdout",
     "output_type": "stream",
     "text": [
      "raheel20\n",
      "Format Error. Use only alphabet\n"
     ]
    }
   ],
   "source": [
    "class FormatError(Exception):\n",
    "    pass\n",
    "name=input(\"enter your name\")\n",
    "print(name)\n",
    "try:\n",
    "    if name.isalpha():\n",
    "        print(\"true\")\n",
    "    else:\n",
    "        raise FormatError\n",
    "except:\n",
    "    print('Format Error. Use only alphabet')\n"
   ]
  },
  {
   "cell_type": "code",
   "execution_count": null,
   "id": "51018cb2",
   "metadata": {},
   "outputs": [],
   "source": []
  }
 ],
 "metadata": {
  "kernelspec": {
   "display_name": "Python 3",
   "language": "python",
   "name": "python3"
  },
  "language_info": {
   "codemirror_mode": {
    "name": "ipython",
    "version": 3
   },
   "file_extension": ".py",
   "mimetype": "text/x-python",
   "name": "python",
   "nbconvert_exporter": "python",
   "pygments_lexer": "ipython3",
   "version": "3.12.0"
  }
 },
 "nbformat": 4,
 "nbformat_minor": 5
}
