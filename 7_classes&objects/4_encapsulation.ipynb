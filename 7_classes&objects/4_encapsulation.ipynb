{
 "cells": [
  {
   "cell_type": "markdown",
   "id": "c1b54f15",
   "metadata": {},
   "source": [
    "## Encapsulation means hiding the internal details\n",
    "\n",
    "## keeps the data private inside a class "
   ]
  },
  {
   "cell_type": "code",
   "execution_count": 32,
   "id": "c96537e4",
   "metadata": {},
   "outputs": [
    {
     "name": "stdout",
     "output_type": "stream",
     "text": [
      "raheel\n",
      "1000\n"
     ]
    }
   ],
   "source": [
    "## public and private variables \n",
    "\n",
    "# public variables\n",
    "class bank_account:\n",
    "    def __init__(self,name,balance):  \n",
    "        self.name=name   \n",
    "        self.balance=balance  \n",
    "\n",
    "    def get_balance(self):\n",
    "        return self.balance\n",
    "    def get_name(self):\n",
    "        return self.name\n",
    "# public variables can be accessed directly\n",
    "account_1=bank_account('raheel',1000)\n",
    "print(account_1.name)\n",
    "print(account_1.balance)"
   ]
  },
  {
   "cell_type": "code",
   "execution_count": 38,
   "id": "6f219083",
   "metadata": {},
   "outputs": [
    {
     "ename": "AttributeError",
     "evalue": "'bank_account' object has no attribute '__name'",
     "output_type": "error",
     "traceback": [
      "\u001b[31m---------------------------------------------------------------------------\u001b[39m",
      "\u001b[31mAttributeError\u001b[39m                            Traceback (most recent call last)",
      "\u001b[36mCell\u001b[39m\u001b[36m \u001b[39m\u001b[32mIn[38]\u001b[39m\u001b[32m, line 14\u001b[39m\n\u001b[32m     11\u001b[39m \u001b[38;5;66;03m# private variables cannot be accessed directly\u001b[39;00m\n\u001b[32m     12\u001b[39m \u001b[38;5;66;03m# will show AttributeError\u001b[39;00m\n\u001b[32m     13\u001b[39m account=bank_account(\u001b[33m\"\u001b[39m\u001b[33mraheel\u001b[39m\u001b[33m\"\u001b[39m,\u001b[32m1000\u001b[39m)\n\u001b[32m---> \u001b[39m\u001b[32m14\u001b[39m \u001b[38;5;28mprint\u001b[39m(\u001b[43maccount\u001b[49m\u001b[43m.\u001b[49m\u001b[43m__name\u001b[49m)\n\u001b[32m     15\u001b[39m \u001b[38;5;28mprint\u001b[39m(account.__balance)\n",
      "\u001b[31mAttributeError\u001b[39m: 'bank_account' object has no attribute '__name'"
     ]
    }
   ],
   "source": [
    "# private variables\n",
    "\n",
    "class bank_account:\n",
    "    def __init__(self,name,balance):\n",
    "        self.__name=name\n",
    "        self.__balance=balance\n",
    "    def get_balance(self):\n",
    "        return self.__balance\n",
    "    def get_name(self):\n",
    "        return self.__name\n",
    "# private variables cannot be accessed directly\n",
    "# will show AttributeError\n",
    "account=bank_account(\"raheel\",1000)\n",
    "print(account.__name)\n",
    "print(account.__balance)\n"
   ]
  },
  {
   "cell_type": "code",
   "execution_count": 55,
   "id": "ab6e3feb",
   "metadata": {},
   "outputs": [
    {
     "name": "stdout",
     "output_type": "stream",
     "text": [
      "raheel\n",
      "1500\n"
     ]
    }
   ],
   "source": [
    "## accessing the private variables\n",
    "## getter method \n",
    "## gives access to read the private variables\n",
    "## def func(self)\n",
    "\n",
    "class bank_account:\n",
    "    def __init__(self,name,balance):\n",
    "        self.__name=name\n",
    "        self.__balance=balance\n",
    "    def get_balance(self):\n",
    "        return self.__balance\n",
    "    def get_name(self):\n",
    "        return self.__name\n",
    "\n",
    "account=bank_account('raheel',1500)\n",
    "print(account.get_name())\n",
    "print(account.get_balance())\n"
   ]
  },
  {
   "cell_type": "code",
   "execution_count": 54,
   "id": "91604c05",
   "metadata": {},
   "outputs": [
    {
     "name": "stdout",
     "output_type": "stream",
     "text": [
      "the ammount 1000 has been deposited\n",
      "3000\n"
     ]
    }
   ],
   "source": [
    "## setter method\n",
    "## gives access to change the private variables \n",
    "## def func(self,variable)\n",
    "class bank_account:\n",
    "    def __init__(self,name,balance):\n",
    "        self.__name=name\n",
    "        self.__balance=balance\n",
    "    def deposit(self,balance):\n",
    "        self.__balance+=balance\n",
    "        return f\"the ammount {balance} has been deposited\"\n",
    "    def withdraw(self,balance):\n",
    "        if balance>self.__balance:\n",
    "            return \"not enough balance\"\n",
    "        else:\n",
    "            return f\"the ammount {balance} has been withdrawn\"\n",
    "    def get_balance(self):\n",
    "        return self.__balance\n",
    "\n",
    "account=bank_account('raheel',2000)\n",
    "print(account.deposit(1000))\n",
    "print(account.get_balance())"
   ]
  },
  {
   "cell_type": "code",
   "execution_count": null,
   "id": "58012ec9",
   "metadata": {},
   "outputs": [],
   "source": []
  }
 ],
 "metadata": {
  "kernelspec": {
   "display_name": "Python 3",
   "language": "python",
   "name": "python3"
  },
  "language_info": {
   "codemirror_mode": {
    "name": "ipython",
    "version": 3
   },
   "file_extension": ".py",
   "mimetype": "text/x-python",
   "name": "python",
   "nbconvert_exporter": "python",
   "pygments_lexer": "ipython3",
   "version": "3.12.0"
  }
 },
 "nbformat": 4,
 "nbformat_minor": 5
}
