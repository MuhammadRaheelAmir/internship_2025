{
 "cells": [
  {
   "cell_type": "markdown",
   "id": "b214721d",
   "metadata": {},
   "source": [
    "## Polymorphism with Abstract Base Classes\n",
    "\n",
    "# Abstraction  - alternative name\n",
    "\n",
    "# used to define common methods for a group of related classes\n",
    "\n",
    "# implements particular methods in derived classes\n",
    "\n",
    "# promotes consistency across different implementations"
   ]
  },
  {
   "cell_type": "code",
   "execution_count": 1,
   "id": "22a0d110",
   "metadata": {},
   "outputs": [],
   "source": [
    "from abc import ABC , abstractmethod\n",
    "\n",
    "## defining Abstract Base Class\n",
    "\n",
    "class Vehicle(ABC):\n",
    "    @abstractmethod\n",
    "    def engine_start(self):\n",
    "        pass\n",
    "# derived class 1\n",
    "class bike(Vehicle):\n",
    "    def engine_start(self):\n",
    "        return \"bike engine starts\"\n",
    "# derived class 2\n",
    "class car(Vehicle):\n",
    "    def engine_start(self):\n",
    "        return \"car engine starts\""
   ]
  },
  {
   "cell_type": "code",
   "execution_count": 2,
   "id": "f357ecf7",
   "metadata": {},
   "outputs": [
    {
     "name": "stdout",
     "output_type": "stream",
     "text": [
      "bike engine starts\n",
      "car engine starts\n"
     ]
    }
   ],
   "source": [
    "## function that demonstrates polymorphism\n",
    "\n",
    "def engine_sound(Vehicle):\n",
    "    print(Vehicle.engine_start())\n",
    "\n",
    "Bike=bike()\n",
    "Car=car()\n",
    "\n",
    "engine_sound(Bike)\n",
    "engine_sound(Car)\n"
   ]
  },
  {
   "cell_type": "code",
   "execution_count": null,
   "id": "d3940aa5",
   "metadata": {},
   "outputs": [],
   "source": []
  }
 ],
 "metadata": {
  "kernelspec": {
   "display_name": "Python 3",
   "language": "python",
   "name": "python3"
  },
  "language_info": {
   "codemirror_mode": {
    "name": "ipython",
    "version": 3
   },
   "file_extension": ".py",
   "mimetype": "text/x-python",
   "name": "python",
   "nbconvert_exporter": "python",
   "pygments_lexer": "ipython3",
   "version": "3.12.0"
  }
 },
 "nbformat": 4,
 "nbformat_minor": 5
}
