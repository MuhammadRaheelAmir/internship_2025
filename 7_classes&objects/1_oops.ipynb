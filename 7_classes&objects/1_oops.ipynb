{
 "cells": [
  {
   "cell_type": "markdown",
   "id": "78d90799",
   "metadata": {},
   "source": [
    "## object oriented programming oops\n",
    "\n",
    "## uses objects to design applications"
   ]
  },
  {
   "cell_type": "code",
   "execution_count": 4,
   "id": "2971461e",
   "metadata": {},
   "outputs": [],
   "source": [
    "## class is a blueprint for creating objects\n",
    "\n",
    "class car():\n",
    "    pass"
   ]
  },
  {
   "cell_type": "code",
   "execution_count": 6,
   "id": "6d0fdbb0",
   "metadata": {},
   "outputs": [
    {
     "name": "stdout",
     "output_type": "stream",
     "text": [
      "<class '__main__.car'>\n",
      "<class '__main__.car'>\n"
     ]
    }
   ],
   "source": [
    "audi=car()\n",
    "faw=car()\n",
    "print(type(audi))\n",
    "print(type(audi))"
   ]
  },
  {
   "cell_type": "code",
   "execution_count": 7,
   "id": "844a8861",
   "metadata": {},
   "outputs": [
    {
     "name": "stdout",
     "output_type": "stream",
     "text": [
      "4\n"
     ]
    },
    {
     "ename": "AttributeError",
     "evalue": "'car' object has no attribute 'windows'",
     "output_type": "error",
     "traceback": [
      "\u001b[31m---------------------------------------------------------------------------\u001b[39m",
      "\u001b[31mAttributeError\u001b[39m                            Traceback (most recent call last)",
      "\u001b[36mCell\u001b[39m\u001b[36m \u001b[39m\u001b[32mIn[7]\u001b[39m\u001b[32m, line 3\u001b[39m\n\u001b[32m      1\u001b[39m audi.windows=\u001b[32m4\u001b[39m\n\u001b[32m      2\u001b[39m \u001b[38;5;28mprint\u001b[39m(audi.windows)\n\u001b[32m----> \u001b[39m\u001b[32m3\u001b[39m \u001b[38;5;28mprint\u001b[39m(\u001b[43mfaw\u001b[49m\u001b[43m.\u001b[49m\u001b[43mwindows\u001b[49m)\n",
      "\u001b[31mAttributeError\u001b[39m: 'car' object has no attribute 'windows'"
     ]
    }
   ],
   "source": [
    "audi.windows=4\n",
    "print(audi.windows)\n",
    "print(faw.windows)"
   ]
  },
  {
   "cell_type": "code",
   "execution_count": 13,
   "id": "98873f18",
   "metadata": {},
   "outputs": [
    {
     "name": "stdout",
     "output_type": "stream",
     "text": [
      "<__main__.car object at 0x0000018A98992210>\n",
      "toyota\n",
      "10000\n"
     ]
    }
   ],
   "source": [
    "## __init__ acts as constructor\n",
    "## defines the class , attributes and methods\n",
    "\n",
    "class car:\n",
    "    # constructor\n",
    "    def __init__(self,company,price):\n",
    "        self.company=company\n",
    "        self.price=price\n",
    "\n",
    "## creating objetcs\n",
    "car1=car('toyota',10000)\n",
    "print(car1)\n",
    "print(car1.company)\n",
    "print(car1.price)"
   ]
  },
  {
   "cell_type": "code",
   "execution_count": null,
   "id": "48e06c03",
   "metadata": {},
   "outputs": [],
   "source": [
    "## define a class with instance method\n",
    "\n",
    "class car():\n",
    "    def __init__(self,company,price):\n",
    "        self.company=company\n",
    "        self.price=price\n",
    "\n",
    "    def engine_sound(self):\n",
    "        print(f\"{self.company} engine roars \")"
   ]
  },
  {
   "cell_type": "code",
   "execution_count": 16,
   "id": "e6ecc8b6",
   "metadata": {},
   "outputs": [
    {
     "name": "stdout",
     "output_type": "stream",
     "text": [
      "toyota engine roars \n",
      "ferrari engine roars \n"
     ]
    }
   ],
   "source": [
    "car1=car('toyota',150000)\n",
    "car2=car('ferrari',250000)\n",
    "car1.engine_sound()\n",
    "car2.engine_sound()"
   ]
  },
  {
   "cell_type": "code",
   "execution_count": 1,
   "id": "be2584b0",
   "metadata": {},
   "outputs": [],
   "source": [
    "## creating a bank account\n",
    "\n",
    "class bank_account():\n",
    "    def __init__(self,name,balance=0):\n",
    "        self.name=name\n",
    "        self.balance=balance\n",
    "    \n",
    "    def deposit(self,amount):\n",
    "        self.balance +=amount\n",
    "        print(f\" The amount of {amount} has been deposited.Available balance is {self.balance}\")\n",
    "    \n",
    "    def withdraw(self,amount):\n",
    "        if amount>self.balance:\n",
    "            print(\"Insufficient balance\")\n",
    "        else:\n",
    "            self.balance-=amount\n",
    "            print(f\" The amount {amount} has been withdrawn.Available balance is {self.balance}\")\n",
    "\n",
    "    def get_balance(self):\n",
    "        return self.balance     \n",
    "    \n",
    "    \n"
   ]
  },
  {
   "cell_type": "code",
   "execution_count": 2,
   "id": "07d3bec7",
   "metadata": {},
   "outputs": [
    {
     "name": "stdout",
     "output_type": "stream",
     "text": [
      "Raheel\n",
      "15000\n"
     ]
    }
   ],
   "source": [
    "account=bank_account(\"Raheel\",15000)\n",
    "print(account.name)\n",
    "print(account.balance)"
   ]
  },
  {
   "cell_type": "code",
   "execution_count": 3,
   "id": "36de0f52",
   "metadata": {},
   "outputs": [
    {
     "name": "stdout",
     "output_type": "stream",
     "text": [
      " The amount of 1000 has been deposited.Available balance is 16000\n"
     ]
    }
   ],
   "source": [
    "account.deposit(1000)"
   ]
  },
  {
   "cell_type": "code",
   "execution_count": 4,
   "id": "d14e09d5",
   "metadata": {},
   "outputs": [
    {
     "name": "stdout",
     "output_type": "stream",
     "text": [
      " The amount 300 has been withdrawn.Available balance is 15700\n"
     ]
    }
   ],
   "source": [
    "account.withdraw(300)"
   ]
  },
  {
   "cell_type": "code",
   "execution_count": 7,
   "id": "b0c51d7f",
   "metadata": {},
   "outputs": [
    {
     "data": {
      "text/plain": [
       "15700"
      ]
     },
     "execution_count": 7,
     "metadata": {},
     "output_type": "execute_result"
    }
   ],
   "source": [
    "account.get_balance()"
   ]
  },
  {
   "cell_type": "code",
   "execution_count": null,
   "id": "64948f34",
   "metadata": {},
   "outputs": [],
   "source": []
  }
 ],
 "metadata": {
  "kernelspec": {
   "display_name": "Python 3",
   "language": "python",
   "name": "python3"
  },
  "language_info": {
   "codemirror_mode": {
    "name": "ipython",
    "version": 3
   },
   "file_extension": ".py",
   "mimetype": "text/x-python",
   "name": "python",
   "nbconvert_exporter": "python",
   "pygments_lexer": "ipython3",
   "version": "3.12.0"
  }
 },
 "nbformat": 4,
 "nbformat_minor": 5
}
