{
 "cells": [
  {
   "cell_type": "markdown",
   "id": "5d9a7bb6",
   "metadata": {},
   "source": [
    "## Magic methods as known as dunder methods\n",
    "## start and end with double underscores\n",
    "## enable us define the behavior of objects for built-in functions\n",
    "## override to change the behavior of objects"
   ]
  },
  {
   "cell_type": "markdown",
   "id": "8c37328a",
   "metadata": {},
   "source": [
    "## __init__:initializes an instance in a class\n",
    "## __str__:returns the string representation of an object\n",
    "## __repr__:returns the official representation of an object\n",
    "## __len__:returns the length of an object\n",
    "## __getitem__:gets an item from a container\n",
    "## __setitem__:sets an item in a container"
   ]
  },
  {
   "cell_type": "code",
   "execution_count": 5,
   "id": "8dbb1eb0",
   "metadata": {},
   "outputs": [
    {
     "name": "stdout",
     "output_type": "stream",
     "text": [
      "<__main__.person object at 0x0000022E2C4D40E0>\n"
     ]
    }
   ],
   "source": [
    "class person:\n",
    "    pass\n",
    "student=person()\n",
    "print(student)"
   ]
  },
  {
   "cell_type": "code",
   "execution_count": 6,
   "id": "77e223a6",
   "metadata": {},
   "outputs": [
    {
     "data": {
      "text/plain": [
       "['__class__',\n",
       " '__delattr__',\n",
       " '__dict__',\n",
       " '__dir__',\n",
       " '__doc__',\n",
       " '__eq__',\n",
       " '__format__',\n",
       " '__ge__',\n",
       " '__getattribute__',\n",
       " '__getstate__',\n",
       " '__gt__',\n",
       " '__hash__',\n",
       " '__init__',\n",
       " '__init_subclass__',\n",
       " '__le__',\n",
       " '__lt__',\n",
       " '__module__',\n",
       " '__ne__',\n",
       " '__new__',\n",
       " '__reduce__',\n",
       " '__reduce_ex__',\n",
       " '__repr__',\n",
       " '__setattr__',\n",
       " '__sizeof__',\n",
       " '__str__',\n",
       " '__subclasshook__',\n",
       " '__weakref__']"
      ]
     },
     "execution_count": 6,
     "metadata": {},
     "output_type": "execute_result"
    }
   ],
   "source": [
    "dir(student)"
   ]
  },
  {
   "cell_type": "code",
   "execution_count": 9,
   "id": "ee6f186b",
   "metadata": {},
   "outputs": [
    {
     "name": "stdout",
     "output_type": "stream",
     "text": [
      "<__main__.person object at 0x0000022E2C4900B0>\n"
     ]
    }
   ],
   "source": [
    "## __init__ for instance initialization\n",
    "\n",
    "class person:\n",
    "    def __init__(self,name,age):\n",
    "        self.name=name\n",
    "        self.age=age\n",
    "student=person('Raheel',19)\n",
    "print(student)"
   ]
  },
  {
   "cell_type": "code",
   "execution_count": null,
   "id": "99457a9e",
   "metadata": {},
   "outputs": [
    {
     "name": "stdout",
     "output_type": "stream",
     "text": [
      "Raheel,19 years old\n"
     ]
    }
   ],
   "source": [
    "## __str__ for string representation\n",
    "\n",
    "class person:\n",
    "    def __init__(self,name,age):\n",
    "        self.name=name\n",
    "        self.age=age\n",
    "    def __str__(self):\n",
    "        return f\"{self.name},{self.age} years old\"\n",
    "student=person('Raheel',19)\n",
    "print(student)"
   ]
  },
  {
   "cell_type": "code",
   "execution_count": 25,
   "id": "c157e32b",
   "metadata": {},
   "outputs": [
    {
     "name": "stdout",
     "output_type": "stream",
     "text": [
      "person(name=Raheel,age=19)\n"
     ]
    }
   ],
   "source": [
    "## __repr__ for official string representation\n",
    "\n",
    "class person:\n",
    "    def __init__(self,name,age):\n",
    "        self.name=name\n",
    "        self.age=age\n",
    "    def __repr__(self):\n",
    "        return f\"person(name={self.name},age={self.age})\"\n",
    "student=person('Raheel',19)\n",
    "print(student)\n"
   ]
  },
  {
   "cell_type": "code",
   "execution_count": null,
   "id": "9b07718e",
   "metadata": {},
   "outputs": [
    {
     "name": "stdout",
     "output_type": "stream",
     "text": [
      "6\n"
     ]
    }
   ],
   "source": [
    "## __len__ for length of an object\n",
    "\n",
    "class person:\n",
    "    def __init__(self,name,age):\n",
    "        self.name=name\n",
    "        self.age=age\n",
    "    def __len__(self):\n",
    "        return len(self.name)\n",
    "student=person('raheel',19)\n",
    "print(len(student))\n"
   ]
  },
  {
   "cell_type": "code",
   "execution_count": null,
   "id": "a897c818",
   "metadata": {},
   "outputs": [
    {
     "name": "stdout",
     "output_type": "stream",
     "text": [
      "raheel\n",
      "19\n"
     ]
    }
   ],
   "source": [
    "## __getitem__ for getting item from a container\n",
    "\n",
    "class person:\n",
    "    def __init__(self,name,age):\n",
    "        self.name=name\n",
    "        self.age=age\n",
    "    def __getitem__(self,index):\n",
    "        if index==0:\n",
    "            return self.name\n",
    "        elif index==1:\n",
    "            return self.age\n",
    "        else:\n",
    "            return \"Out of range\"\n",
    "student=person('raheel',19)\n",
    "print(student[0])\n",
    "print(student[1])\n"
   ]
  },
  {
   "cell_type": "code",
   "execution_count": null,
   "id": "16913a8c",
   "metadata": {},
   "outputs": [
    {
     "name": "stdout",
     "output_type": "stream",
     "text": [
      "19\n",
      "raheel\n"
     ]
    }
   ],
   "source": [
    "## __setitem__ for setting items in a container\n",
    "## always used with __getitem__\n",
    "\n",
    "class person:\n",
    "    def __init__(self,name,age):\n",
    "        self.name=name\n",
    "        self.age=age\n",
    "    def __getitem__(self,index):\n",
    "        if index==0:\n",
    "            return self.age\n",
    "        elif index==1:\n",
    "            return self.name\n",
    "        else:\n",
    "            return \"Out of range\"\n",
    "    def __setitem__(self,index,value):\n",
    "        if index==0:\n",
    "            self.age=value\n",
    "        elif index==1:\n",
    "            self.name=value\n",
    "## here we can assign values of own choice \n",
    "## orignal index of name(0) and age(1) assigned as name(1) and age(0) in both getitem and setitem\n",
    "student=person('raheel',19)\n",
    "print(student[0])\n",
    "print(student[1])"
   ]
  }
 ],
 "metadata": {
  "kernelspec": {
   "display_name": "Python 3",
   "language": "python",
   "name": "python3"
  },
  "language_info": {
   "codemirror_mode": {
    "name": "ipython",
    "version": 3
   },
   "file_extension": ".py",
   "mimetype": "text/x-python",
   "name": "python",
   "nbconvert_exporter": "python",
   "pygments_lexer": "ipython3",
   "version": "3.12.0"
  }
 },
 "nbformat": 4,
 "nbformat_minor": 5
}
