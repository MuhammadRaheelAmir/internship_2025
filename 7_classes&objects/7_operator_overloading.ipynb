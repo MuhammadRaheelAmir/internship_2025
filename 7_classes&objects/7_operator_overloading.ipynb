{
 "cells": [
  {
   "cell_type": "markdown",
   "id": "68fb215b",
   "metadata": {},
   "source": [
    "## OPERATOR OVERLOADING\n",
    "\n",
    "## Operator overloading allows us to define the behavior of operators(+-*/) for custom objects\n",
    "\n",
    "## it is achieved by overriding specific magic methods in the class"
   ]
  },
  {
   "cell_type": "code",
   "execution_count": null,
   "id": "7b59afc1",
   "metadata": {},
   "outputs": [
    {
     "data": {
      "text/plain": [
       "'\\n__add__(self,other): adds the two objects using the + operator\\n__sub__(self,other): subtracts two objects using the - operator\\n__mul__(self,other): multiplies the two objects using the * operator\\n__truediv__(self,other): divides the two objects using the / operator\\n__eq__(self,other): checks if the two objetcs are equal using the == operator\\n__it__(self,other): checks if an object is lass than the other using the < operator\\n'"
      ]
     },
     "execution_count": 1,
     "metadata": {},
     "output_type": "execute_result"
    }
   ],
   "source": [
    "## common operator overloading magic method\n",
    "'''\n",
    "__add__(self,other): adds the two objects using the + operator\n",
    "__sub__(self,other): subtracts two objects using the - operator\n",
    "__mul__(self,other): multiplies the two objects using the * operator\n",
    "__truediv__(self,other): divides the two objects using the / operator\n",
    "__eq__(self,other): checks if the two objetcs are equal using the == operator\n",
    "__it__(self,other): checks if an object is lass than the other using the < operator\n",
    "'''"
   ]
  },
  {
   "cell_type": "code",
   "execution_count": 16,
   "id": "4e297ef0",
   "metadata": {},
   "outputs": [],
   "source": [
    "class vector:\n",
    "    def __init__(self,x,y):\n",
    "        self.x=x\n",
    "        self.y=y\n",
    "    def __add__(self,other):\n",
    "        return vector(self.x+other.x,self.y+other.y)\n",
    "    def __sub__(self,other):\n",
    "        return vector (self.x-other.x,self.y-other.y)\n",
    "    def __mul__(self,other):\n",
    "        return vector(self.x*other.x,self.y*other.y)\n",
    "    def __truediv__(self,other):\n",
    "        return vector (self.x/other.x,self.y/other.y)\n",
    "    def __eq__(self,other):\n",
    "        return self.x==other.x and self.y==other.y\n",
    "    def __lt__(self,other):\n",
    "        return self.x<other.x and self.y<other.y\n",
    "    def __repr__(self):\n",
    "        return f\"vector({self.x},{self.y})\"\n",
    "\n"
   ]
  },
  {
   "cell_type": "code",
   "execution_count": null,
   "id": "75e6a92a",
   "metadata": {},
   "outputs": [
    {
     "name": "stdout",
     "output_type": "stream",
     "text": [
      "vector(13,13)\n",
      "vector(-1,5)\n",
      "vector(42,36)\n",
      "vector(0.8571428571428571,2.25)\n",
      "False\n",
      "False\n"
     ]
    }
   ],
   "source": [
    "v1=vector(6,9)\n",
    "v2=vector(7,4)\n",
    "print(v1+v2)\n",
    "print(v1-v2)\n",
    "print(v1*v2)\n",
    "print(v1/v2)\n",
    "print(v1==v2)\n",
    "print(v1<v2)"
   ]
  },
  {
   "cell_type": "code",
   "execution_count": null,
   "id": "268faec1",
   "metadata": {},
   "outputs": [],
   "source": []
  }
 ],
 "metadata": {
  "kernelspec": {
   "display_name": "Python 3",
   "language": "python",
   "name": "python3"
  },
  "language_info": {
   "codemirror_mode": {
    "name": "ipython",
    "version": 3
   },
   "file_extension": ".py",
   "mimetype": "text/x-python",
   "name": "python",
   "nbconvert_exporter": "python",
   "pygments_lexer": "ipython3",
   "version": "3.12.0"
  }
 },
 "nbformat": 4,
 "nbformat_minor": 5
}
