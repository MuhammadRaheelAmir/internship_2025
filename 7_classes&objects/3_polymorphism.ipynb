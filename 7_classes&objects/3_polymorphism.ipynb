{
 "cells": [
  {
   "cell_type": "markdown",
   "id": "99a6e50c",
   "metadata": {},
   "source": [
    "## Polymorphism\n",
    "\n",
    "# allows objects of different classes to be treated as objects of a common superclass\n",
    "\n",
    "# provides a way to perform a single action in different forms"
   ]
  },
  {
   "cell_type": "markdown",
   "id": "fffaccf3",
   "metadata": {},
   "source": [
    "## types\n",
    "\n",
    "# method overriding\n",
    "\n",
    "# interfaces"
   ]
  },
  {
   "cell_type": "markdown",
   "id": "2c19c906",
   "metadata": {},
   "source": [
    "## Method overriding\n",
    "\n",
    "# allows a child class to provide a specific implementation of a method that is already defined in the parent class"
   ]
  },
  {
   "cell_type": "code",
   "execution_count": 18,
   "id": "2cbf8c42",
   "metadata": {},
   "outputs": [
    {
     "name": "stdout",
     "output_type": "stream",
     "text": [
      "Meow\n",
      "Growls\n"
     ]
    }
   ],
   "source": [
    "## base class\n",
    "\n",
    "class animal:\n",
    "    def speak(self):\n",
    "        return \"Animal makes a sound\" \n",
    "## derived class 1    \n",
    "class cat(animal):\n",
    "        def speak(self):\n",
    "            return \"Meow\"\n",
    "## derived class 2\n",
    "class lion(animal):\n",
    "        def speak(self):\n",
    "            return \"Growls\"\n",
    "\n",
    "Cat= cat()\n",
    "Lion=lion()\n",
    "print(Cat.speak())\n",
    "print(Lion.speak())\n",
    "\n"
   ]
  },
  {
   "cell_type": "code",
   "execution_count": null,
   "id": "0b0e8184",
   "metadata": {},
   "outputs": [
    {
     "name": "stdout",
     "output_type": "stream",
     "text": [
      "Meow\n",
      "Growls\n"
     ]
    }
   ],
   "source": [
    "## function that shows polymorphism\n",
    "def animal_speak(animal):\n",
    "        print (animal.speak())\n",
    "animal_speak(Cat)\n",
    "animal_speak(Lion)"
   ]
  },
  {
   "cell_type": "code",
   "execution_count": null,
   "id": "a20b2820",
   "metadata": {},
   "outputs": [],
   "source": [
    "## Polymorphism with functions and methods\n",
    "# base class\n",
    "class shape:\n",
    "    def area(self):\n",
    "        return \"area of shape\"\n",
    "## derived class 1\n",
    "class rectangle(shape):\n",
    "    def __init__(self,width,length):\n",
    "        self.width=width\n",
    "        self.length=length\n",
    "    def area(self):\n",
    "        return self.width*self.length\n",
    "## derived class 2\n",
    "class circle(shape):\n",
    "    def __init__(self,radius):\n",
    "        self.radius=radius\n",
    "\n",
    "    def area(self):\n",
    "        return 3.14*self.radius*self.radius"
   ]
  },
  {
   "cell_type": "code",
   "execution_count": 6,
   "id": "4065d569",
   "metadata": {},
   "outputs": [
    {
     "name": "stdout",
     "output_type": "stream",
     "text": [
      "8\n",
      "28.259999999999998\n"
     ]
    }
   ],
   "source": [
    "Rectangle=rectangle(4,2)\n",
    "Circle=circle(3)\n",
    "print(Rectangle.area())\n",
    "print(Circle.area())\n"
   ]
  },
  {
   "cell_type": "code",
   "execution_count": 21,
   "id": "82c39442",
   "metadata": {},
   "outputs": [
    {
     "name": "stdout",
     "output_type": "stream",
     "text": [
      " area of shape is 15\n",
      " area of shape is 78.5\n"
     ]
    }
   ],
   "source": [
    "# a function that edmonstrates polymorphism\n",
    "\n",
    "def area_shape(shape):\n",
    "    return (f\" area of shape is {shape.area()}\")\n",
    "\n",
    "Rectangle=rectangle(3,5)\n",
    "Circle=circle(5)\n",
    "print(area_shape(Rectangle))\n",
    "print(area_shape(Circle))"
   ]
  }
 ],
 "metadata": {
  "kernelspec": {
   "display_name": "Python 3",
   "language": "python",
   "name": "python3"
  },
  "language_info": {
   "codemirror_mode": {
    "name": "ipython",
    "version": 3
   },
   "file_extension": ".py",
   "mimetype": "text/x-python",
   "name": "python",
   "nbconvert_exporter": "python",
   "pygments_lexer": "ipython3",
   "version": "3.12.0"
  }
 },
 "nbformat": 4,
 "nbformat_minor": 5
}
