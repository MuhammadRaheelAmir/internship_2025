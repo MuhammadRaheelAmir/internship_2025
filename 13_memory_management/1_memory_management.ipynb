{
 "cells": [
  {
   "cell_type": "markdown",
   "id": "8c5a2d73",
   "metadata": {},
   "source": [
    "## Memory management \n",
    "# Memory management in Python involves a combination of automatic garbage collection, reference counting, and various internal optimizations to efficiently manage memory allocation and deallocation.\n"
   ]
  },
  {
   "cell_type": "markdown",
   "id": "03bbae86",
   "metadata": {},
   "source": [
    "## Key concepts\n",
    "# Memory Allocation and Deallocation\n",
    "# Reference Counting\n",
    "# Garbage Collection\n",
    "# The gc Module\n",
    "# Memory Management Best Practices"
   ]
  },
  {
   "cell_type": "markdown",
   "id": "e7781ac4",
   "metadata": {},
   "source": [
    "## Reference Counting\n",
    "# Reference counting is the primary method Python uses to manage memory. Each object in Python maintains a count of references pointing to it. When the reference count drops to zero, the memory occupied by the object is deallocated"
   ]
  },
  {
   "cell_type": "code",
   "execution_count": 1,
   "id": "82821f50",
   "metadata": {},
   "outputs": [
    {
     "data": {
      "text/plain": [
       "2"
      ]
     },
     "execution_count": 1,
     "metadata": {},
     "output_type": "execute_result"
    }
   ],
   "source": [
    "import sys\n",
    "\n",
    "a=[]\n",
    "sys.getrefcount(a) # 2, 1 for a and 1 for sys.getrefcount(a)\n"
   ]
  },
  {
   "cell_type": "code",
   "execution_count": 2,
   "id": "7a1ea229",
   "metadata": {},
   "outputs": [
    {
     "data": {
      "text/plain": [
       "3"
      ]
     },
     "execution_count": 2,
     "metadata": {},
     "output_type": "execute_result"
    }
   ],
   "source": [
    "b=a\n",
    "sys.getrefcount(b)"
   ]
  },
  {
   "cell_type": "code",
   "execution_count": null,
   "id": "2f723597",
   "metadata": {},
   "outputs": [
    {
     "data": {
      "text/plain": [
       "3"
      ]
     },
     "execution_count": 3,
     "metadata": {},
     "output_type": "execute_result"
    }
   ],
   "source": [
    "sys.getrefcount(a) # 1 addiotional reference with b"
   ]
  },
  {
   "cell_type": "code",
   "execution_count": null,
   "id": "21cc885e",
   "metadata": {},
   "outputs": [
    {
     "data": {
      "text/plain": [
       "2"
      ]
     },
     "execution_count": 4,
     "metadata": {},
     "output_type": "execute_result"
    }
   ],
   "source": [
    "del b\n",
    "sys.getrefcount(a) # Again 2 because reference of b is removed"
   ]
  },
  {
   "cell_type": "markdown",
   "id": "8c6318cc",
   "metadata": {},
   "source": [
    "## Garbage Collection\n",
    "# Python includes a cyclic garbage collector to handle reference cycles. Reference cycles occur when objects reference each other, preventing their reference counts from reaching zero"
   ]
  },
  {
   "cell_type": "code",
   "execution_count": null,
   "id": "b76b5b60",
   "metadata": {},
   "outputs": [],
   "source": [
    "import gc\n",
    "# Enable garbage collection\n",
    "gc.enable()"
   ]
  },
  {
   "cell_type": "code",
   "execution_count": null,
   "id": "90e00c64",
   "metadata": {},
   "outputs": [],
   "source": [
    "# Disable the garbage collection\n",
    "gc.disable() "
   ]
  },
  {
   "cell_type": "code",
   "execution_count": null,
   "id": "2f741e29",
   "metadata": {},
   "outputs": [
    {
     "data": {
      "text/plain": [
       "0"
      ]
     },
     "execution_count": 12,
     "metadata": {},
     "output_type": "execute_result"
    }
   ],
   "source": [
    "# Collects the garbage in the system\n",
    "gc.collect() "
   ]
  },
  {
   "cell_type": "code",
   "execution_count": null,
   "id": "4c11b59f",
   "metadata": {},
   "outputs": [
    {
     "name": "stdout",
     "output_type": "stream",
     "text": [
      "[{'collections': 173, 'collected': 1631, 'uncollectable': 0}, {'collections': 15, 'collected': 83, 'uncollectable': 0}, {'collections': 5, 'collected': 93, 'uncollectable': 0}]\n"
     ]
    }
   ],
   "source": [
    "# Get garbage collection stats\n",
    "print(gc.get_stats()) "
   ]
  },
  {
   "cell_type": "code",
   "execution_count": 15,
   "id": "0c0df8df",
   "metadata": {},
   "outputs": [
    {
     "name": "stdout",
     "output_type": "stream",
     "text": [
      "[]\n"
     ]
    }
   ],
   "source": [
    "# Get unreachable objects\n",
    "print(gc.garbage)"
   ]
  },
  {
   "cell_type": "markdown",
   "id": "144fb5dd",
   "metadata": {},
   "source": [
    "## Memory Management Best Practices\n",
    "# Use Local Variables: Local variables have a shorter lifespan and are freed sooner than global variables.\n",
    "# Avoid Circular References: Circular references can lead to memory leaks if not properly managed.\n",
    "# Use Generators: Generators produce items one at a time and only keep one item in memory at a time, making them memory efficient.\n",
    "# Explicitly Delete Objects: Use the del statement to delete variables and objects explicitly.\n",
    "# Profile Memory Usage: Use memory profiling tools like tracemalloc and memory_profiler to identify memory leaks and optimize memory usage."
   ]
  },
  {
   "cell_type": "code",
   "execution_count": 18,
   "id": "bf6b3224",
   "metadata": {},
   "outputs": [
    {
     "name": "stdout",
     "output_type": "stream",
     "text": [
      "objectobj1 created\n",
      "objectobj2 created\n",
      "objectobj1 deleted\n",
      "objectobj2 deleted\n"
     ]
    },
    {
     "data": {
      "text/plain": [
       "134"
      ]
     },
     "execution_count": 18,
     "metadata": {},
     "output_type": "execute_result"
    }
   ],
   "source": [
    "## Handling circular references\n",
    "\n",
    "class myobject:\n",
    "    def __init__ (self,name):\n",
    "        self.name=name\n",
    "        print(f\"object{self.name} created\")\n",
    "    \n",
    "    def __del__ (self):\n",
    "        print(f\"object{self.name} deleted\")\n",
    "\n",
    "## Circular reference\n",
    "\n",
    "obj1=myobject(\"obj1\")\n",
    "obj2=myobject(\"obj2\")\n",
    "obj1.ref=obj2\n",
    "obj2.ref=obj1\n",
    "\n",
    "del obj1\n",
    "del obj2 # Due to circular references , these objects could not be deleted \n",
    "\n",
    "## Manually trigerring the garbage collection\n",
    "gc.collect()"
   ]
  },
  {
   "cell_type": "code",
   "execution_count": 19,
   "id": "905147c3",
   "metadata": {},
   "outputs": [
    {
     "name": "stdout",
     "output_type": "stream",
     "text": [
      "0\n",
      "1\n",
      "2\n",
      "3\n",
      "4\n",
      "5\n",
      "6\n",
      "7\n",
      "8\n",
      "9\n",
      "10\n",
      "11\n"
     ]
    }
   ],
   "source": [
    "## Generators For Memory Efficiency\n",
    "## Generators allow you to produce items one at a time, using memory efficiently by only keeping one item in memory at a time\n",
    "\n",
    "def generate_numbers(n):\n",
    "    for i in range(n):\n",
    "        yield i  # using yield to produce a generator\n",
    "\n",
    "## Using the generator \n",
    "\n",
    "for num in generate_numbers(1000):\n",
    "    print(num)\n",
    "    if num>10:\n",
    "        break\n",
    "\n",
    "\n"
   ]
  },
  {
   "cell_type": "code",
   "execution_count": 25,
   "id": "5977890f",
   "metadata": {},
   "outputs": [],
   "source": [
    "## Profiling memory usage with tracemalloc\n",
    "\n",
    "import tracemalloc\n",
    "\n",
    "def create_list():\n",
    "    return [i for i in range(1000)]\n",
    "\n",
    "def main():\n",
    "    tracemalloc.start()\n",
    "    create_list()\n",
    "    snapshot = tracemalloc.take_snapshot()\n",
    "    top_stats = snapshot.statistics('lineno')\n",
    "    \n",
    "    print(\"[Top 10]\")\n",
    "\n",
    "    for stat in top_stats [:10:]:\n",
    "        print (stat)"
   ]
  },
  {
   "cell_type": "code",
   "execution_count": 27,
   "id": "05b6ef80",
   "metadata": {},
   "outputs": [
    {
     "name": "stdout",
     "output_type": "stream",
     "text": [
      "[Top 10]\n",
      "c:\\internship_2025\\day_1\\venv\\Lib\\selectors.py:314: size=144 KiB, count=3, average=48.0 KiB\n",
      "c:\\internship_2025\\day_1\\venv\\Lib\\site-packages\\IPython\\core\\interactiveshell.py:3054: size=13.9 KiB, count=3, average=4743 B\n",
      "c:\\internship_2025\\day_1\\venv\\Lib\\tracemalloc.py:558: size=5864 B, count=121, average=48 B\n",
      "c:\\internship_2025\\day_1\\venv\\Lib\\json\\decoder.py:353: size=3067 B, count=38, average=81 B\n",
      "c:\\internship_2025\\day_1\\venv\\Lib\\site-packages\\zmq\\sugar\\attrsettr.py:45: size=2820 B, count=60, average=47 B\n",
      "c:\\internship_2025\\day_1\\venv\\Lib\\site-packages\\IPython\\core\\compilerop.py:174: size=2232 B, count=30, average=74 B\n",
      "c:\\internship_2025\\day_1\\venv\\Lib\\site-packages\\traitlets\\traitlets.py:731: size=2114 B, count=33, average=64 B\n",
      "c:\\internship_2025\\day_1\\venv\\Lib\\site-packages\\traitlets\\traitlets.py:1543: size=2048 B, count=34, average=60 B\n",
      "c:\\internship_2025\\day_1\\venv\\Lib\\site-packages\\jupyter_client\\jsonutil.py:111: size=1650 B, count=33, average=50 B\n",
      "c:\\internship_2025\\day_1\\venv\\Lib\\codeop.py:118: size=1616 B, count=16, average=101 B\n"
     ]
    }
   ],
   "source": [
    "main()"
   ]
  }
 ],
 "metadata": {
  "kernelspec": {
   "display_name": "Python 3",
   "language": "python",
   "name": "python3"
  },
  "language_info": {
   "codemirror_mode": {
    "name": "ipython",
    "version": 3
   },
   "file_extension": ".py",
   "mimetype": "text/x-python",
   "name": "python",
   "nbconvert_exporter": "python",
   "pygments_lexer": "ipython3",
   "version": "3.12.0"
  }
 },
 "nbformat": 4,
 "nbformat_minor": 5
}
