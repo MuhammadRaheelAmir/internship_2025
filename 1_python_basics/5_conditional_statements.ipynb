{
 "cells": [
  {
   "cell_type": "code",
   "execution_count": null,
   "id": "79bced61",
   "metadata": {},
   "outputs": [
    {
     "name": "stdout",
     "output_type": "stream",
     "text": [
      "<class 'bool'>\n"
     ]
    }
   ],
   "source": [
    "## simple calculator using number inputs and operation input\n",
    "\n",
    "## website login interphase and response\n",
    "\n",
    "## tax calculation based on salary per annum"
   ]
  },
  {
   "cell_type": "code",
   "execution_count": 3,
   "id": "4bfe66a7",
   "metadata": {},
   "outputs": [
    {
     "name": "stdout",
     "output_type": "stream",
     "text": [
      "you are an adult\n"
     ]
    }
   ],
   "source": [
    "## if statement\n",
    "## Ued to execute a true statement\n",
    "\n",
    "age= 21\n",
    "if age >=18:\n",
    "    print(\"you are an adult\")"
   ]
  },
  {
   "cell_type": "code",
   "execution_count": 7,
   "id": "1b58ce62",
   "metadata": {},
   "outputs": [
    {
     "name": "stdout",
     "output_type": "stream",
     "text": [
      "You are a minor\n"
     ]
    }
   ],
   "source": [
    "## else statement\n",
    "## Used to execute a false statement from if statement\n",
    "\n",
    "age=16\n",
    "if age>=18:\n",
    "    print(\"You are an adult\")\n",
    "else:\n",
    "    print(\"You are a minor\")"
   ]
  },
  {
   "cell_type": "code",
   "execution_count": 8,
   "id": "91c8f61d",
   "metadata": {},
   "outputs": [
    {
     "name": "stdout",
     "output_type": "stream",
     "text": [
      "40 percent tax\n"
     ]
    }
   ],
   "source": [
    "## elif statement\n",
    "## used to execute multiple conditions \n",
    "\n",
    "salary=200000\n",
    "\n",
    "if salary>=200000:\n",
    "    print(\"40 percent tax\")\n",
    "elif salary<=100000:\n",
    "    print(\"30 percent tax\")\n",
    "elif salary<=40000:\n",
    "    print(\"20 percent tax\")\n",
    "else:\n",
    "    print(\"10 percent tax\")\n"
   ]
  },
  {
   "cell_type": "code",
   "execution_count": 12,
   "id": "91de5170",
   "metadata": {},
   "outputs": [
    {
     "name": "stdout",
     "output_type": "stream",
     "text": [
      "The number is even\n"
     ]
    }
   ],
   "source": [
    "## Nested conditional statement\n",
    "\n",
    "num=int(input(\"Enter the number\"))\n",
    "\n",
    "if num>0:\n",
    "    if num%2==0:\n",
    "        print(\"The number is even\")\n",
    "    else:\n",
    "        print(\"The number is odd\")\n",
    "else :\n",
    "    print(\"The number is negative\")"
   ]
  },
  {
   "cell_type": "code",
   "execution_count": 15,
   "id": "b44435b8",
   "metadata": {},
   "outputs": [
    {
     "name": "stdout",
     "output_type": "stream",
     "text": [
      "The year is leap\n"
     ]
    }
   ],
   "source": [
    "## Determinig a leap year\n",
    "year=int(input(\"Enter the year\"))\n",
    "if year%4==0:\n",
    "    if year%100==0:\n",
    "        if year%400==0:\n",
    "            print(\"The year is leap\")\n",
    "        else :\n",
    "            print(\"The year is not leap\")\n",
    "    else:\n",
    "        print(\"The year is leap\")\n",
    "else:\n",
    "    print(\"The year is not leap\")"
   ]
  },
  {
   "cell_type": "code",
   "execution_count": 2,
   "id": "739f07a9",
   "metadata": {},
   "outputs": [
    {
     "name": "stdout",
     "output_type": "stream",
     "text": [
      "Result: 200.0\n"
     ]
    }
   ],
   "source": [
    "## Simple calculator using user input\n",
    "\n",
    "num_1=float(input(\"Enter the first number: \"))\n",
    "num_2=float(input(\"Enter the second number: \"))\n",
    "operator=input(\"Enter the operator (+,-,/,*): \")\n",
    "\n",
    "if operator == '+' :\n",
    "    result = num_1 + num_2\n",
    "elif operator == '-' :\n",
    "    result = num_1 - num_2\n",
    "elif operator == '/' :\n",
    "    if num_1 != 0:\n",
    "        result = num_1 / num_2\n",
    "    else:\n",
    "        result = \"Math error\"\n",
    "elif operator == '*':\n",
    "    result = num_1 * num_2\n",
    "else :\n",
    "    result = \"Invalid operation\"\n",
    "\n",
    "print(\"Result:\", result)\n",
    "\n",
    "\n",
    "\n",
    "\n",
    "\n"
   ]
  },
  {
   "cell_type": "code",
   "execution_count": 2,
   "id": "e88abd41",
   "metadata": {},
   "outputs": [
    {
     "name": "stdout",
     "output_type": "stream",
     "text": [
      "login successful\n"
     ]
    }
   ],
   "source": [
    "## login system using conditional statements\n",
    "\n",
    "stored_username= \"raheel1212\"\n",
    "stored_password= \"locusgemini\"\n",
    "username=input(\"Enter the username\")\n",
    "password=input(\"Enter the password\")\n",
    "\n",
    "if username== stored_username:\n",
    "    if password== stored_password:\n",
    "        print(\"login successful\")\n",
    "    else :\n",
    "        print(\" Incorrect password\")\n",
    "else :\n",
    "    print(\"Invalid username\")"
   ]
  }
 ],
 "metadata": {
  "kernelspec": {
   "display_name": "Python 3",
   "language": "python",
   "name": "python3"
  },
  "language_info": {
   "codemirror_mode": {
    "name": "ipython",
    "version": 3
   },
   "file_extension": ".py",
   "mimetype": "text/x-python",
   "name": "python",
   "nbconvert_exporter": "python",
   "pygments_lexer": "ipython3",
   "version": "3.12.0"
  }
 },
 "nbformat": 4,
 "nbformat_minor": 5
}
